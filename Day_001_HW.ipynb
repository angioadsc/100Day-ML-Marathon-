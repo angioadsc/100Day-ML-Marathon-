{
 "cells": [
  {
   "cell_type": "markdown",
   "metadata": {},
   "source": [
    "## 練習時間\n",
    "#### 請寫一個函式用來計算 Mean Square Error\n",
    "$ MSE = \\frac{1}{n}\\sum_{i=1}^{n}{(Y_i - \\hat{Y}_i)^2} $\n",
    "\n",
    "### Hint: [如何取平方](https://googoodesign.gitbooks.io/-ezpython/unit-1.html)"
   ]
  },
  {
   "cell_type": "markdown",
   "metadata": {},
   "source": [
    "# [作業目標]\n",
    "- 仿造範例的MAE函數, 自己寫一個MSE函數(參考上面公式)"
   ]
  },
  {
   "cell_type": "markdown",
   "metadata": {},
   "source": [
    "# [作業重點]\n",
    "- 注意程式的縮排\n",
    "- 是否能將數學公式, 轉換為 Python 的函式組合? (In[2], Out[2])"
   ]
  },
  {
   "cell_type": "code",
   "execution_count": 1,
   "metadata": {},
   "outputs": [],
   "source": [
    "# 載入基礎套件與代稱\n",
    "import numpy as np\n",
    "import matplotlib.pyplot as plt"
   ]
  },
  {
   "cell_type": "code",
   "execution_count": 3,
   "metadata": {},
   "outputs": [],
   "source": [
    "def mean_absolute_error(y, yp):\n",
    "    \"\"\"\n",
    "    計算 MAE\n",
    "    Args:\n",
    "        - y: 實際值\n",
    "        - yp: 預測值\n",
    "    Return:\n",
    "        - mae: MAE\n",
    "    \"\"\"\n",
    "    mae = MAE = sum(abs(y - yp)) / len(y)\n",
    "    return mae\n",
    "\n",
    "# 定義 mean_squared_error 這個函數, 計算並傳回 MSE\n",
    "def mean_squared_error(y, yp):\n",
    "    \"\"\"\n",
    "    計算 MAE\n",
    "    Args:\n",
    "        - y: 實際值\n",
    "        - yp: 預測值\n",
    "    Return:\n",
    "        - mse: MSE\n",
    "    \"\"\"\n",
    "    mse = MSE = sum((y - yp)**2) / len(y)\n",
    "    return mse"
   ]
  },
  {
   "cell_type": "code",
   "execution_count": 4,
   "metadata": {},
   "outputs": [
    {
     "data": {
      "image/png": "[encoded data removed]",
      "text/plain": [
       "<matplotlib.figure.Figure at 0x2565fdce240>"
      ]
     },
     "metadata": {},
     "output_type": "display_data"
    }
   ],
   "source": [
    "# 與範例相同, 不另外解說\n",
    "w = 3\n",
    "b = 0.5\n",
    "x_lin = np.linspace(0, 100, 101)\n",
    "y = (x_lin + np.random.randn(101) * 5) * w + b\n",
    "\n",
    "plt.plot(x_lin, y, 'b.', label = 'data points')\n",
    "plt.title(\"Assume we have data points\")\n",
    "plt.legend(loc = 2)\n",
    "plt.show()"
   ]
  },
  {
   "cell_type": "code",
   "execution_count": 5,
   "metadata": {},
   "outputs": [
    {
     "data": {
      "image/png": "[encoded data removed]",
      "text/plain": [
       "<matplotlib.figure.Figure at 0x2565fe8bc50>"
      ]
     },
     "metadata": {},
     "output_type": "display_data"
    }
   ],
   "source": [
    "# 與範例相同, 不另外解說\n",
    "y_hat = x_lin * w + b\n",
    "plt.plot(x_lin, y, 'b.', label = 'data')\n",
    "plt.plot(x_lin, y_hat, 'r-', label = 'prediction')\n",
    "plt.title(\"Assume we have data points (And the prediction)\")\n",
    "plt.legend(loc = 2)\n",
    "plt.show()"
   ]
  },
  {
   "cell_type": "code",
   "execution_count": 6,
   "metadata": {},
   "outputs": [
    {
     "name": "stdout",
     "output_type": "stream",
     "text": [
      "The Mean squared error is 234.840\n",
      "The Mean absolute error is 12.378\n"
     ]
    }
   ],
   "source": [
    "# 執行 Function, 確認有沒有正常執行\n",
    "MSE = mean_squared_error(y, y_hat)\n",
    "MAE = mean_absolute_error(y, y_hat)\n",
    "print(\"The Mean squared error is %.3f\" % (MSE))\n",
    "print(\"The Mean absolute error is %.3f\" % (MAE))"
   ]
  },
  {
   "cell_type": "markdown",
   "metadata": {},
   "source": [
    "# [作業2]\n",
    "\n",
    "請上 Kaggle, 在 Competitions 或 Dataset 中找一組競賽或資料並寫下：\n",
    "\n",
    "1. 你選的這組資料為何重要\n",
    "病理診斷通常由醫師與一減詩\n",
    "2. 資料從何而來 (tips: 譬如提供者是誰、以什麼方式蒐集)\n",
    "\n",
    "3. 蒐集而來的資料型態為何\n",
    "\n",
    "4. 這組資料想解決的問題如何評估\n",
    "\n",
    "\n",
    "\n",
    "\n",
    "\n",
    "# [作業3]\n",
    "\n",
    "想像你經營一個自由載客車隊，你希望能透過數據分析以提升業績，請你思考並描述你如何規劃整體的分析/解決方案：\n",
    "\n",
    "1. 核心問題為何 (tips：如何定義 「提升業績 & 你的假設」)\n",
    "\n",
    "2. 資料從何而來 (tips：哪些資料可能會對你想問的問題產生影響 & 資料如何蒐集)\n",
    "\n",
    "3. 蒐集而來的資料型態為何\n",
    "\n",
    "4. 你要回答的問題，其如何評估 (tips：你的假設如何驗證)"
   ]
  },
  {
   "cell_type": "markdown",
   "metadata": {},
   "source": [
    "[作業2]\n",
    "請上 Kaggle, 在 Competitions 或 Dataset 中找一組競賽或資料並寫下：\n",
    "1.\t你選的這組資料為何重要 \n",
    "病人的病理診斷都是由醫師與醫檢師依據經驗或檢測工具判斷,此時容易因病灶尚微、經驗不足或檢測工具的極限發生判斷失誤,醫療上的失誤會造成治療疏失、醫療糾紛、醫療浪費等不良影響。使用深度學習等方式協助判讀,可減少此類誤差,並加快判讀效率\n",
    "2.\t資料從何而來 (tips: 譬如提供者是誰、以什麼方式蒐集)\n",
    "數據收集數據使用挪威Vestre Viken Health Trust（VV）的內窺鏡設備收集。圖像由來自VV和挪威癌症登記處（CRN）的一名或多名醫學專家仔細註釋。\n",
    "3.\t蒐集而來的資料型態為何\n",
    "共八組圖檔資料內含不同部位的正常組織與癌症組織,每組各1000張\n",
    "4.\t這組資料想解決的問題如何評估\n",
    "使用這些病理資料包含染色結果判斷可用組織大小、染色結果、外觀顏色與形狀訓練系統，並以部分正常與癌症組織做測試,合併未來不斷蒐集的資料與醫師判斷結果做比較\n",
    "[作業3]\n",
    "想像你經營一個自由載客車隊，你希望能透過數據分析以提升業績，請你思考並描述你如何規劃整體的分析/解決方案：\n",
    "1.\t核心問題為何 (tips：如何定義 「提升業績 & 你的假設」)\n",
    "假設業績是受到Uber的影響\n",
    "2.\t資料從何而來 (tips：哪些資料可能會對你想問的問題產生影響 & 資料如何蒐集)\n",
    "資料有以下三種來源\n",
    "I.\t各計程車司機記錄（收客時間、行車距離、開車時間、車資、自何處、到何處）\n",
    "II.\t交通記錄（各路段交通流量、交通事故）\n",
    "III.\t計程車工會與公車、Uber、Ubike等（同時在某熱點的計程車數、競爭車數（公車、Uber等各項交通便利設施的有無））\n",
    "3.\t蒐集而來的資料型態為何\n",
    "數字資料\n",
    "4.\t你要回答的問題，其如何評估 (tips：你的假設如何驗證)\n",
    "Uber屬隨機載客, 可由Uber加入前的歷史資料排除其他大眾交通工具影響,考量交通突發情況,計算各時段的平均業績後驗證Uber的影響\n"
   ]
  }
 ],
 "metadata": {
  "anaconda-cloud": {},
  "kernelspec": {
   "display_name": "Python 3",
   "language": "python",
   "name": "python3"
  },
  "language_info": {
   "codemirror_mode": {
    "name": "ipython",
    "version": 3
   },
   "file_extension": ".py",
   "mimetype": "text/x-python",
   "name": "python",
   "nbconvert_exporter": "python",
   "pygments_lexer": "ipython3",
   "version": "3.6.4"
  }
 },
 "nbformat": 4,
 "nbformat_minor": 1
}
