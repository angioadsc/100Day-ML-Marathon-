{
 "cells": [
  {
   "cell_type": "markdown",
   "metadata": {},
   "source": [
    "# 請結合前面的知識與程式碼，比較不同的 optimizer 與 learning rate 組合對訓練的結果與影響\n",
    "### 常見的 optimizer 包含\n",
    "* SGD\n",
    "* RMSprop\n",
    "* AdaGrad\n",
    "* Adam"
   ]
  },
  {
   "cell_type": "code",
   "execution_count": 1,
   "metadata": {},
   "outputs": [
    {
     "name": "stderr",
     "output_type": "stream",
     "text": [
      "C:\\Users\\User\\Anaconda3\\lib\\site-packages\\h5py\\__init__.py:36: FutureWarning: Conversion of the second argument of issubdtype from `float` to `np.floating` is deprecated. In future, it will be treated as `np.float64 == np.dtype(float).type`.\n",
      "  from ._conv import register_converters as _register_converters\n",
      "Using TensorFlow backend.\n"
     ]
    }
   ],
   "source": [
    "import os\n",
    "import keras\n",
    "\n",
    "# Disable GPU\n",
    "os.environ[\"CUDA_VISIBLE_DEVICES\"] = \"\""
   ]
  },
  {
   "cell_type": "code",
   "execution_count": 2,
   "metadata": {},
   "outputs": [],
   "source": [
    "train, test = keras.datasets.cifar10.load_data()"
   ]
  },
  {
   "cell_type": "code",
   "execution_count": 3,
   "metadata": {},
   "outputs": [],
   "source": [
    "## 資料前處理\n",
    "def preproc_x(x, flatten=True):\n",
    "    x = x / 255.\n",
    "    if flatten:\n",
    "        x = x.reshape((len(x), -1))\n",
    "    return x\n",
    "\n",
    "def preproc_y(y, num_classes=10):\n",
    "    if y.shape[-1] == 1:\n",
    "        y = keras.utils.to_categorical(y, num_classes)\n",
    "    return y    "
   ]
  },
  {
   "cell_type": "code",
   "execution_count": 4,
   "metadata": {},
   "outputs": [],
   "source": [
    "x_train, y_train = train\n",
    "x_test, y_test = test\n",
    "\n",
    "# Preproc the inputs\n",
    "x_train = preproc_x(x_train)\n",
    "x_test = preproc_x(x_test)\n",
    "\n",
    "# Preprc the outputs\n",
    "y_train = preproc_y(y_train)\n",
    "y_test = preproc_y(y_test)"
   ]
  },
  {
   "cell_type": "code",
   "execution_count": 5,
   "metadata": {},
   "outputs": [],
   "source": [
    "def build_mlp(input_shape, output_units=10, num_neurons=[512, 256, 128]):\n",
    "    \"\"\"\n",
    "    Build your own model\n",
    "    \"\"\"\n",
    "    input_layer = keras.layers.Input(input_shape)\n",
    "    \n",
    "    for i, n_units in enumerate(num_neurons):\n",
    "        if i == 0:\n",
    "            x = keras.layers.Dense(units=n_units, activation=\"relu\", name=\"hidden_layer\"+str(i+1))(input_layer)\n",
    "        else:\n",
    "            x = keras.layers.Dense(units=n_units, activation=\"relu\", name=\"hidden_layer\"+str(i+1))(x)\n",
    "    \n",
    "    out = keras.layers.Dense(units=output_units, activation=\"softmax\", name=\"output\")(x)\n",
    "    \n",
    "    model = keras.models.Model(inputs=[input_layer], outputs=[out])\n",
    "    return model"
   ]
  },
  {
   "cell_type": "code",
   "execution_count": 6,
   "metadata": {},
   "outputs": [],
   "source": [
    "## 超參數設定\n",
    "\"\"\"\n",
    "Set your required experiment parameters\n",
    "\"\"\"\n",
    "LEARNING_RATE = [1e-1, 1e-2, 1e-3, 1e-4, 1e-5]\n",
    "EPOCHS = 50\n",
    "BATCH_SIZE = 256\n",
    "MOMENTUM = 0.95\n"
   ]
  },
  {
   "cell_type": "code",
   "execution_count": null,
   "metadata": {
    "scrolled": true
   },
   "outputs": [
    {
     "name": "stdout",
     "output_type": "stream",
     "text": [
      "Experiment with LR = 0.100000\n",
      "WARNING:tensorflow:From C:\\Users\\User\\Anaconda3\\lib\\site-packages\\tensorflow\\python\\framework\\op_def_library.py:263: colocate_with (from tensorflow.python.framework.ops) is deprecated and will be removed in a future version.\n",
      "Instructions for updating:\n",
      "Colocations handled automatically by placer.\n",
      "_________________________________________________________________\n",
      "Layer (type)                 Output Shape              Param #   \n",
      "=================================================================\n",
      "input_1 (InputLayer)         (None, 3072)              0         \n",
      "_________________________________________________________________\n",
      "hidden_layer1 (Dense)        (None, 512)               1573376   \n",
      "_________________________________________________________________\n",
      "hidden_layer2 (Dense)        (None, 256)               131328    \n",
      "_________________________________________________________________\n",
      "hidden_layer3 (Dense)        (None, 128)               32896     \n",
      "_________________________________________________________________\n",
      "output (Dense)               (None, 10)                1290      \n",
      "=================================================================\n",
      "Total params: 1,738,890\n",
      "Trainable params: 1,738,890\n",
      "Non-trainable params: 0\n",
      "_________________________________________________________________\n",
      "WARNING:tensorflow:From C:\\Users\\User\\Anaconda3\\lib\\site-packages\\tensorflow\\python\\ops\\math_ops.py:3066: to_int32 (from tensorflow.python.ops.math_ops) is deprecated and will be removed in a future version.\n",
      "Instructions for updating:\n",
      "Use tf.cast instead.\n",
      "Train on 50000 samples, validate on 10000 samples\n",
      "Epoch 1/50\n",
      "50000/50000 [==============================] - 7s 144us/step - loss: 2.3018 - acc: 0.1533 - val_loss: 2.0514 - val_acc: 0.1996\n",
      "Epoch 2/50\n",
      "50000/50000 [==============================] - 7s 137us/step - loss: 2.0027 - acc: 0.2318 - val_loss: 1.9197 - val_acc: 0.2639\n",
      "Epoch 3/50\n",
      "50000/50000 [==============================] - 7s 134us/step - loss: 1.8740 - acc: 0.2992 - val_loss: 1.8121 - val_acc: 0.3328\n",
      "Epoch 4/50\n",
      "50000/50000 [==============================] - 7s 141us/step - loss: 1.8051 - acc: 0.3346 - val_loss: 1.8221 - val_acc: 0.3509\n",
      "Epoch 5/50\n",
      "50000/50000 [==============================] - 7s 137us/step - loss: 1.7604 - acc: 0.3588 - val_loss: 2.0072 - val_acc: 0.3104\n",
      "Epoch 6/50\n",
      "50000/50000 [==============================] - 7s 136us/step - loss: 1.7473 - acc: 0.3720 - val_loss: 1.7592 - val_acc: 0.3573\n",
      "Epoch 7/50\n",
      "50000/50000 [==============================] - 7s 133us/step - loss: 1.7125 - acc: 0.3805 - val_loss: 1.7435 - val_acc: 0.3634\n",
      "Epoch 8/50\n",
      "50000/50000 [==============================] - 7s 146us/step - loss: 1.6950 - acc: 0.3871 - val_loss: 1.7325 - val_acc: 0.3709\n",
      "Epoch 9/50\n",
      "50000/50000 [==============================] - 7s 132us/step - loss: 1.6825 - acc: 0.3927 - val_loss: 1.6959 - val_acc: 0.3944\n",
      "Epoch 10/50\n",
      "50000/50000 [==============================] - 7s 132us/step - loss: 1.6656 - acc: 0.3991 - val_loss: 1.7584 - val_acc: 0.3549\n",
      "Epoch 11/50\n",
      "50000/50000 [==============================] - 7s 132us/step - loss: 1.6463 - acc: 0.4086 - val_loss: 1.6622 - val_acc: 0.4091\n",
      "Epoch 12/50\n",
      "50000/50000 [==============================] - 7s 130us/step - loss: 1.6461 - acc: 0.4089 - val_loss: 1.7018 - val_acc: 0.3845\n",
      "Epoch 13/50\n",
      "50000/50000 [==============================] - 7s 130us/step - loss: 1.6388 - acc: 0.4134 - val_loss: 1.6786 - val_acc: 0.3946\n",
      "Epoch 14/50\n",
      "50000/50000 [==============================] - 7s 136us/step - loss: 1.6242 - acc: 0.4189 - val_loss: 1.7828 - val_acc: 0.3775\n",
      "Epoch 15/50\n",
      "50000/50000 [==============================] - 7s 137us/step - loss: 1.6249 - acc: 0.4183 - val_loss: 1.7922 - val_acc: 0.3790\n",
      "Epoch 16/50\n",
      "50000/50000 [==============================] - 7s 134us/step - loss: 1.6235 - acc: 0.4185 - val_loss: 1.8865 - val_acc: 0.3509\n",
      "Epoch 17/50\n",
      "50000/50000 [==============================] - 7s 134us/step - loss: 1.6186 - acc: 0.4238 - val_loss: 1.6671 - val_acc: 0.3958\n",
      "Epoch 18/50\n",
      "50000/50000 [==============================] - 7s 141us/step - loss: 1.6081 - acc: 0.4258 - val_loss: 1.6891 - val_acc: 0.3862\n",
      "Epoch 19/50\n",
      "50000/50000 [==============================] - 7s 139us/step - loss: 1.6023 - acc: 0.4282 - val_loss: 1.7081 - val_acc: 0.3866\n",
      "Epoch 20/50\n",
      "50000/50000 [==============================] - 7s 136us/step - loss: 1.5880 - acc: 0.4315 - val_loss: 1.8571 - val_acc: 0.3704\n",
      "Epoch 21/50\n",
      "50000/50000 [==============================] - 7s 139us/step - loss: 1.5936 - acc: 0.4327 - val_loss: 1.7561 - val_acc: 0.3814\n",
      "Epoch 22/50\n",
      "50000/50000 [==============================] - 7s 136us/step - loss: 1.5892 - acc: 0.4312 - val_loss: 1.6868 - val_acc: 0.4019\n",
      "Epoch 23/50\n",
      "50000/50000 [==============================] - 7s 143us/step - loss: 1.5850 - acc: 0.4328 - val_loss: 1.7563 - val_acc: 0.3902\n",
      "Epoch 24/50\n",
      "50000/50000 [==============================] - 7s 139us/step - loss: 1.5757 - acc: 0.4381 - val_loss: 1.6706 - val_acc: 0.4065\n",
      "Epoch 25/50\n",
      "50000/50000 [==============================] - 7s 138us/step - loss: 1.5760 - acc: 0.4390 - val_loss: 1.6614 - val_acc: 0.4048\n",
      "Epoch 26/50\n",
      "50000/50000 [==============================] - 7s 139us/step - loss: 1.5834 - acc: 0.4358 - val_loss: 1.7278 - val_acc: 0.3948\n",
      "Epoch 27/50\n",
      "50000/50000 [==============================] - 7s 142us/step - loss: 1.5807 - acc: 0.4363 - val_loss: 1.6603 - val_acc: 0.4100\n",
      "Epoch 28/50\n",
      "50000/50000 [==============================] - 7s 140us/step - loss: 1.5733 - acc: 0.4393 - val_loss: 1.6571 - val_acc: 0.4078\n",
      "Epoch 29/50\n",
      "50000/50000 [==============================] - 7s 139us/step - loss: 1.5677 - acc: 0.4433 - val_loss: 1.7184 - val_acc: 0.3812\n",
      "Epoch 30/50\n",
      "50000/50000 [==============================] - 7s 144us/step - loss: 1.5681 - acc: 0.4419 - val_loss: 1.6438 - val_acc: 0.4081\n",
      "Epoch 31/50\n",
      "50000/50000 [==============================] - 7s 137us/step - loss: 1.5607 - acc: 0.4478 - val_loss: 1.6630 - val_acc: 0.4189\n",
      "Epoch 32/50\n",
      "49408/50000 [============================>.] - ETA: 0s - loss: 1.5599 - acc: 0.4447"
     ]
    }
   ],
   "source": [
    "results = {}\n",
    "\"\"\"\n",
    "建立你的訓練與實驗迴圈並蒐集資料\n",
    "\"\"\"\n",
    "for lr in LEARNING_RATE:\n",
    "    keras.backend.clear_session() # 把舊的 Graph 清掉\n",
    "    print(\"Experiment with LR = %.6f\" % (lr))\n",
    "    model = build_mlp(input_shape=x_train.shape[1:])\n",
    "    model.summary()\n",
    "    optimizer = keras.optimizers.SGD(lr=lr, nesterov=True, momentum=MOMENTUM)\n",
    "    model.compile(loss=\"categorical_crossentropy\", metrics=[\"accuracy\"], optimizer=optimizer)\n",
    "\n",
    "    model.fit(x_train, y_train, \n",
    "              epochs=EPOCHS, \n",
    "              batch_size=BATCH_SIZE, \n",
    "              validation_data=(x_test, y_test), \n",
    "              shuffle=True)\n",
    "    \n",
    "    # Collect results\n",
    "    train_loss = model.history.history[\"loss\"]\n",
    "    valid_loss = model.history.history[\"val_loss\"]\n",
    "    train_acc = model.history.history[\"acc\"]\n",
    "    valid_acc = model.history.history[\"val_acc\"]\n",
    "    \n",
    "    exp_name_tag = \"exp-lr-%s\" % str(lr)\n",
    "    results[exp_name_tag] = {'train-loss': train_loss,\n",
    "                             'valid-loss': valid_loss,\n",
    "                             'train-acc': train_acc,\n",
    "                             'valid-acc': valid_acc}"
   ]
  },
  {
   "cell_type": "code",
   "execution_count": null,
   "metadata": {},
   "outputs": [],
   "source": [
    "import matplotlib.pyplot as plt\n",
    "%matplotlib inline\n",
    "\n",
    "\"\"\"\n",
    "將實驗結果繪出\n",
    "\"\"\"\n",
    "color_bar = [\"r\", \"g\", \"b\", \"y\", \"m\", \"k\"]\n",
    "\n",
    "plt.figure(figsize=(8,6))\n",
    "for i, cond in enumerate(results.keys()):\n",
    "    plt.plot(range(len(results[cond]['train-loss'])),results[cond]['train-loss'], '-', label=cond, color=color_bar[i])\n",
    "    plt.plot(range(len(results[cond]['valid-loss'])),results[cond]['valid-loss'], '--', label=cond, color=color_bar[i])\n",
    "plt.title(\"Loss\")\n",
    "plt.legend()\n",
    "plt.show()\n",
    "\n",
    "plt.figure(figsize=(8,6))\n",
    "for i, cond in enumerate(results.keys()):\n",
    "    plt.plot(range(len(results[cond]['train-acc'])),results[cond]['train-acc'], '-', label=cond, color=color_bar[i])\n",
    "    plt.plot(range(len(results[cond]['valid-acc'])),results[cond]['valid-acc'], '--', label=cond, color=color_bar[i])\n",
    "plt.title(\"Accuracy\")\n",
    "plt.legend()\n",
    "plt.show()"
   ]
  },
  {
   "cell_type": "code",
   "execution_count": null,
   "metadata": {},
   "outputs": [],
   "source": []
  }
 ],
 "metadata": {
  "kernelspec": {
   "display_name": "Python 3",
   "language": "python",
   "name": "python3"
  },
  "language_info": {
   "codemirror_mode": {
    "name": "ipython",
    "version": 3
   },
   "file_extension": ".py",
   "mimetype": "text/x-python",
   "name": "python",
   "nbconvert_exporter": "python",
   "pygments_lexer": "ipython3",
   "version": "3.6.4"
  }
 },
 "nbformat": 4,
 "nbformat_minor": 2
}
