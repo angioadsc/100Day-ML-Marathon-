{
 "cells": [
  {
   "cell_type": "markdown",
   "metadata": {},
   "source": [
    "## Work\n",
    "1. 試比較有 BN 在 Batch_size = 2, 16, 32, 128, 256 下的差異\n",
    "2. 請嘗試將 BN 放在 Activation 之前，並比較訓練結果\n",
    "3. 請於 BN 放在 Input Layer 後，並比較結果"
   ]
  },
  {
   "cell_type": "code",
   "execution_count": 1,
   "metadata": {},
   "outputs": [
    {
     "name": "stderr",
     "output_type": "stream",
     "text": [
      "C:\\Users\\User\\Anaconda3\\lib\\site-packages\\h5py\\__init__.py:36: FutureWarning: Conversion of the second argument of issubdtype from `float` to `np.floating` is deprecated. In future, it will be treated as `np.float64 == np.dtype(float).type`.\n",
      "  from ._conv import register_converters as _register_converters\n",
      "Using TensorFlow backend.\n"
     ]
    }
   ],
   "source": [
    "import os\n",
    "import keras\n",
    "import itertools\n",
    "# Disable GPU\n",
    "os.environ[\"CUDA_VISIBLE_DEVICES\"] = \"\""
   ]
  },
  {
   "cell_type": "code",
   "execution_count": 2,
   "metadata": {},
   "outputs": [],
   "source": [
    "train, test = keras.datasets.cifar10.load_data()"
   ]
  },
  {
   "cell_type": "code",
   "execution_count": 3,
   "metadata": {},
   "outputs": [],
   "source": [
    "## 資料前處理\n",
    "def preproc_x(x, flatten=True):\n",
    "    x = x / 255.\n",
    "    if flatten:\n",
    "        x = x.reshape((len(x), -1))\n",
    "    return x\n",
    "\n",
    "def preproc_y(y, num_classes=10):\n",
    "    if y.shape[-1] == 1:\n",
    "        y = keras.utils.to_categorical(y, num_classes)\n",
    "    return y    "
   ]
  },
  {
   "cell_type": "code",
   "execution_count": 4,
   "metadata": {},
   "outputs": [],
   "source": [
    "x_train, y_train = train\n",
    "x_test, y_test = test\n",
    "\n",
    "# Preproc the inputs\n",
    "x_train = preproc_x(x_train)\n",
    "x_test = preproc_x(x_test)\n",
    "\n",
    "# Preprc the outputs\n",
    "y_train = preproc_y(y_train)\n",
    "y_test = preproc_y(y_test)"
   ]
  },
  {
   "cell_type": "code",
   "execution_count": 5,
   "metadata": {},
   "outputs": [],
   "source": [
    "from keras.layers import BatchNormalization\n",
    "def build_mlp(input_shape, output_units=10, num_neurons=[128, 32, 16]):\n",
    "    \"\"\"Code Here\n",
    "    建立你的神經網路\n",
    "    \"\"\"\n",
    "    input_layer = keras.layers.Input(input_shape)\n",
    "    \n",
    "    for i, n_units in enumerate(num_neurons):\n",
    "        if i == 0:\n",
    "            x = keras.layers.Dense(units=n_units, \n",
    "                                   activation=\"relu\", \n",
    "                                   name=\"hidden_layer\"+str(i+1))(input_layer)\n",
    "            x = BatchNormalization()(x)\n",
    "        else:\n",
    "            x = keras.layers.Dense(units=n_units, \n",
    "                                   activation=\"relu\", \n",
    "                                   name=\"hidden_layer\"+str(i+1))(x)\n",
    "            x = BatchNormalization()(x)\n",
    "    \n",
    "    out = keras.layers.Dense(units=output_units, activation=\"softmax\", name=\"output\")(x)\n",
    "    \n",
    "    model = keras.models.Model(inputs=[input_layer], outputs=[out])\n",
    "    return model"
   ]
  },
  {
   "cell_type": "code",
   "execution_count": 6,
   "metadata": {},
   "outputs": [],
   "source": [
    "\"\"\"Code Here\n",
    "設定超參數\n",
    "\"\"\"\n",
    "LEARNING_RATE = 1e-3\n",
    "EPOCHS = 50\n",
    "BATCH_SIZE = 1024\n",
    "MOMENTUM = 0.95"
   ]
  },
  {
   "cell_type": "code",
   "execution_count": 7,
   "metadata": {
    "scrolled": true
   },
   "outputs": [
    {
     "name": "stdout",
     "output_type": "stream",
     "text": [
      "WARNING:tensorflow:From C:\\Users\\User\\Anaconda3\\lib\\site-packages\\tensorflow\\python\\framework\\op_def_library.py:263: colocate_with (from tensorflow.python.framework.ops) is deprecated and will be removed in a future version.\n",
      "Instructions for updating:\n",
      "Colocations handled automatically by placer.\n",
      "_________________________________________________________________\n",
      "Layer (type)                 Output Shape              Param #   \n",
      "=================================================================\n",
      "input_1 (InputLayer)         (None, 3072)              0         \n",
      "_________________________________________________________________\n",
      "hidden_layer1 (Dense)        (None, 128)               393344    \n",
      "_________________________________________________________________\n",
      "batch_normalization_1 (Batch (None, 128)               512       \n",
      "_________________________________________________________________\n",
      "hidden_layer2 (Dense)        (None, 32)                4128      \n",
      "_________________________________________________________________\n",
      "batch_normalization_2 (Batch (None, 32)                128       \n",
      "_________________________________________________________________\n",
      "hidden_layer3 (Dense)        (None, 16)                528       \n",
      "_________________________________________________________________\n",
      "batch_normalization_3 (Batch (None, 16)                64        \n",
      "_________________________________________________________________\n",
      "output (Dense)               (None, 10)                170       \n",
      "=================================================================\n",
      "Total params: 398,874\n",
      "Trainable params: 398,522\n",
      "Non-trainable params: 352\n",
      "_________________________________________________________________\n",
      "WARNING:tensorflow:From C:\\Users\\User\\Anaconda3\\lib\\site-packages\\tensorflow\\python\\ops\\math_ops.py:3066: to_int32 (from tensorflow.python.ops.math_ops) is deprecated and will be removed in a future version.\n",
      "Instructions for updating:\n",
      "Use tf.cast instead.\n",
      "Train on 50000 samples, validate on 10000 samples\n",
      "Epoch 1/50\n",
      "50000/50000 [==============================] - 3s 64us/step - loss: 2.3208 - acc: 0.1862 - val_loss: 2.3875 - val_acc: 0.2175\n",
      "Epoch 2/50\n",
      "50000/50000 [==============================] - 2s 44us/step - loss: 1.9865 - acc: 0.2907 - val_loss: 1.9666 - val_acc: 0.3156\n",
      "Epoch 3/50\n",
      "50000/50000 [==============================] - 2s 43us/step - loss: 1.8815 - acc: 0.3371 - val_loss: 1.8839 - val_acc: 0.3391\n",
      "Epoch 4/50\n",
      "50000/50000 [==============================] - 2s 43us/step - loss: 1.8162 - acc: 0.3623 - val_loss: 1.8603 - val_acc: 0.3482\n",
      "Epoch 5/50\n",
      "50000/50000 [==============================] - 2s 44us/step - loss: 1.7673 - acc: 0.3822 - val_loss: 1.8132 - val_acc: 0.3656\n",
      "Epoch 6/50\n",
      "50000/50000 [==============================] - 2s 44us/step - loss: 1.7263 - acc: 0.3966 - val_loss: 1.7596 - val_acc: 0.3864\n",
      "Epoch 7/50\n",
      "50000/50000 [==============================] - 2s 43us/step - loss: 1.6924 - acc: 0.4063 - val_loss: 1.7369 - val_acc: 0.3916\n",
      "Epoch 8/50\n",
      "50000/50000 [==============================] - 2s 46us/step - loss: 1.6635 - acc: 0.4153 - val_loss: 1.7004 - val_acc: 0.4018\n",
      "Epoch 9/50\n",
      "50000/50000 [==============================] - 2s 46us/step - loss: 1.6374 - acc: 0.4249 - val_loss: 1.6985 - val_acc: 0.4087\n",
      "Epoch 10/50\n",
      "50000/50000 [==============================] - 2s 46us/step - loss: 1.6111 - acc: 0.4329 - val_loss: 1.6477 - val_acc: 0.4163\n",
      "Epoch 11/50\n",
      "50000/50000 [==============================] - 2s 45us/step - loss: 1.5903 - acc: 0.4404 - val_loss: 1.6495 - val_acc: 0.4164\n",
      "Epoch 12/50\n",
      "50000/50000 [==============================] - 2s 45us/step - loss: 1.5700 - acc: 0.4470 - val_loss: 1.6406 - val_acc: 0.4179\n",
      "Epoch 13/50\n",
      "50000/50000 [==============================] - 2s 44us/step - loss: 1.5503 - acc: 0.4531 - val_loss: 1.6059 - val_acc: 0.4341\n",
      "Epoch 14/50\n",
      "50000/50000 [==============================] - 2s 44us/step - loss: 1.5320 - acc: 0.4610 - val_loss: 1.6187 - val_acc: 0.4310\n",
      "Epoch 15/50\n",
      "50000/50000 [==============================] - 2s 46us/step - loss: 1.5165 - acc: 0.4643 - val_loss: 1.5874 - val_acc: 0.4353\n",
      "Epoch 16/50\n",
      "50000/50000 [==============================] - 2s 44us/step - loss: 1.5013 - acc: 0.4696 - val_loss: 1.5950 - val_acc: 0.4380\n",
      "Epoch 17/50\n",
      "50000/50000 [==============================] - 2s 44us/step - loss: 1.4875 - acc: 0.4754 - val_loss: 1.5689 - val_acc: 0.4449\n",
      "Epoch 18/50\n",
      "50000/50000 [==============================] - 2s 44us/step - loss: 1.4726 - acc: 0.4803 - val_loss: 1.5686 - val_acc: 0.4391\n",
      "Epoch 19/50\n",
      "50000/50000 [==============================] - 2s 43us/step - loss: 1.4588 - acc: 0.4847 - val_loss: 1.5631 - val_acc: 0.4449\n",
      "Epoch 20/50\n",
      "50000/50000 [==============================] - 2s 45us/step - loss: 1.4452 - acc: 0.4905 - val_loss: 1.5548 - val_acc: 0.4528\n",
      "Epoch 21/50\n",
      "50000/50000 [==============================] - 2s 43us/step - loss: 1.4337 - acc: 0.4932 - val_loss: 1.5501 - val_acc: 0.4500\n",
      "Epoch 22/50\n",
      "50000/50000 [==============================] - 2s 44us/step - loss: 1.4201 - acc: 0.4994 - val_loss: 1.5425 - val_acc: 0.4517\n",
      "Epoch 23/50\n",
      "50000/50000 [==============================] - 2s 45us/step - loss: 1.4097 - acc: 0.5021 - val_loss: 1.5413 - val_acc: 0.4583\n",
      "Epoch 24/50\n",
      "50000/50000 [==============================] - 2s 44us/step - loss: 1.3985 - acc: 0.5063 - val_loss: 1.5365 - val_acc: 0.4578\n",
      "Epoch 25/50\n",
      "50000/50000 [==============================] - 2s 44us/step - loss: 1.3865 - acc: 0.5111 - val_loss: 1.5313 - val_acc: 0.4536\n",
      "Epoch 26/50\n",
      "50000/50000 [==============================] - 2s 44us/step - loss: 1.3778 - acc: 0.5147 - val_loss: 1.5346 - val_acc: 0.4585\n",
      "Epoch 27/50\n",
      "50000/50000 [==============================] - 2s 43us/step - loss: 1.3679 - acc: 0.5174 - val_loss: 1.5170 - val_acc: 0.4616\n",
      "Epoch 28/50\n",
      "50000/50000 [==============================] - 2s 43us/step - loss: 1.3561 - acc: 0.5213 - val_loss: 1.5295 - val_acc: 0.4573\n",
      "Epoch 29/50\n",
      "50000/50000 [==============================] - 2s 44us/step - loss: 1.3482 - acc: 0.5236 - val_loss: 1.5221 - val_acc: 0.4612\n",
      "Epoch 30/50\n",
      "50000/50000 [==============================] - 2s 45us/step - loss: 1.3377 - acc: 0.5270 - val_loss: 1.5183 - val_acc: 0.4608\n",
      "Epoch 31/50\n",
      "50000/50000 [==============================] - 2s 43us/step - loss: 1.3266 - acc: 0.5308 - val_loss: 1.5221 - val_acc: 0.4644\n",
      "Epoch 32/50\n",
      "50000/50000 [==============================] - 2s 44us/step - loss: 1.3197 - acc: 0.5344 - val_loss: 1.5175 - val_acc: 0.4650\n",
      "Epoch 33/50\n",
      "50000/50000 [==============================] - 2s 43us/step - loss: 1.3107 - acc: 0.5370 - val_loss: 1.5216 - val_acc: 0.4594\n",
      "Epoch 34/50\n",
      "50000/50000 [==============================] - 2s 43us/step - loss: 1.3006 - acc: 0.5407 - val_loss: 1.5139 - val_acc: 0.4622\n",
      "Epoch 35/50\n",
      "50000/50000 [==============================] - 2s 43us/step - loss: 1.2939 - acc: 0.5432 - val_loss: 1.5114 - val_acc: 0.4697\n",
      "Epoch 36/50\n",
      "50000/50000 [==============================] - 2s 43us/step - loss: 1.2846 - acc: 0.5459 - val_loss: 1.5129 - val_acc: 0.4643\n",
      "Epoch 37/50\n",
      "50000/50000 [==============================] - 2s 46us/step - loss: 1.2751 - acc: 0.5493 - val_loss: 1.5128 - val_acc: 0.4688\n",
      "Epoch 38/50\n",
      "50000/50000 [==============================] - 2s 43us/step - loss: 1.2677 - acc: 0.5516 - val_loss: 1.5194 - val_acc: 0.4659\n",
      "Epoch 39/50\n",
      "50000/50000 [==============================] - 2s 44us/step - loss: 1.2588 - acc: 0.5566 - val_loss: 1.5094 - val_acc: 0.4716\n",
      "Epoch 40/50\n",
      "50000/50000 [==============================] - 2s 45us/step - loss: 1.2508 - acc: 0.5590 - val_loss: 1.5116 - val_acc: 0.4732\n",
      "Epoch 41/50\n",
      "50000/50000 [==============================] - 2s 44us/step - loss: 1.2455 - acc: 0.5602 - val_loss: 1.5071 - val_acc: 0.4762\n",
      "Epoch 42/50\n",
      "50000/50000 [==============================] - 2s 43us/step - loss: 1.2363 - acc: 0.5632 - val_loss: 1.5193 - val_acc: 0.4697\n",
      "Epoch 43/50\n",
      "50000/50000 [==============================] - 2s 43us/step - loss: 1.2257 - acc: 0.5692 - val_loss: 1.5093 - val_acc: 0.4767\n",
      "Epoch 44/50\n",
      "50000/50000 [==============================] - 2s 45us/step - loss: 1.2180 - acc: 0.5692 - val_loss: 1.5239 - val_acc: 0.4721\n",
      "Epoch 45/50\n",
      "50000/50000 [==============================] - 2s 44us/step - loss: 1.2092 - acc: 0.5734 - val_loss: 1.5580 - val_acc: 0.4599\n"
     ]
    },
    {
     "name": "stdout",
     "output_type": "stream",
     "text": [
      "Epoch 46/50\n",
      "50000/50000 [==============================] - 2s 43us/step - loss: 1.2036 - acc: 0.5762 - val_loss: 1.5071 - val_acc: 0.4722\n",
      "Epoch 47/50\n",
      "50000/50000 [==============================] - 2s 43us/step - loss: 1.1953 - acc: 0.5794 - val_loss: 1.5283 - val_acc: 0.4671\n",
      "Epoch 48/50\n",
      "50000/50000 [==============================] - 2s 43us/step - loss: 1.1897 - acc: 0.5790 - val_loss: 1.5282 - val_acc: 0.4692\n",
      "Epoch 49/50\n",
      "50000/50000 [==============================] - 2s 43us/step - loss: 1.1795 - acc: 0.5835 - val_loss: 1.5351 - val_acc: 0.4681\n",
      "Epoch 50/50\n",
      "50000/50000 [==============================] - 2s 43us/step - loss: 1.1733 - acc: 0.5878 - val_loss: 1.5226 - val_acc: 0.4739\n"
     ]
    }
   ],
   "source": [
    "results = {}\n",
    "\"\"\"Code Here\n",
    "撰寫你的訓練流程並將結果用 dictionary 紀錄\n",
    "\"\"\"\n",
    "model = build_mlp(input_shape=x_train.shape[1:])\n",
    "model.summary()\n",
    "optimizer = keras.optimizers.SGD(lr=LEARNING_RATE, nesterov=True, momentum=MOMENTUM)\n",
    "model.compile(loss=\"categorical_crossentropy\", metrics=[\"accuracy\"], optimizer=optimizer)\n",
    "\n",
    "model.fit(x_train, y_train, \n",
    "          epochs=EPOCHS, \n",
    "          batch_size=BATCH_SIZE, \n",
    "          validation_data=(x_test, y_test), \n",
    "          shuffle=True)\n",
    "\n",
    "# Collect results\n",
    "train_loss = model.history.history[\"loss\"]\n",
    "valid_loss = model.history.history[\"val_loss\"]\n",
    "train_acc = model.history.history[\"acc\"]\n",
    "valid_acc = model.history.history[\"val_acc\"]"
   ]
  },
  {
   "cell_type": "code",
   "execution_count": 8,
   "metadata": {},
   "outputs": [
    {
     "data": {
      "image/png": "[encoded data removed]",
      "text/plain": [
       "<Figure size 432x288 with 1 Axes>"
      ]
     },
     "metadata": {},
     "output_type": "display_data"
    },
    {
     "data": {
      "image/png": "[encoded data removed]",
      "text/plain": [
       "<Figure size 432x288 with 1 Axes>"
      ]
     },
     "metadata": {},
     "output_type": "display_data"
    }
   ],
   "source": [
    "import matplotlib.pyplot as plt\n",
    "%matplotlib inline\n",
    "\"\"\"Code Here\n",
    "將結果繪出\n",
    "\"\"\"\n",
    "plt.plot(range(len(train_loss)), train_loss, label=\"train loss\")\n",
    "plt.plot(range(len(valid_loss)), valid_loss, label=\"valid loss\")\n",
    "plt.legend()\n",
    "plt.title(\"Loss\")\n",
    "plt.show()\n",
    "\n",
    "plt.plot(range(len(train_acc)), train_acc, label=\"train accuracy\")\n",
    "plt.plot(range(len(valid_acc)), valid_acc, label=\"valid accuracy\")\n",
    "plt.legend()\n",
    "plt.title(\"Accuracy\")\n",
    "plt.show()"
   ]
  },
  {
   "cell_type": "code",
   "execution_count": null,
   "metadata": {},
   "outputs": [],
   "source": []
  }
 ],
 "metadata": {
  "kernelspec": {
   "display_name": "Python 3",
   "language": "python",
   "name": "python3"
  },
  "language_info": {
   "codemirror_mode": {
    "name": "ipython",
    "version": 3
   },
   "file_extension": ".py",
   "mimetype": "text/x-python",
   "name": "python",
   "nbconvert_exporter": "python",
   "pygments_lexer": "ipython3",
   "version": "3.6.4"
  }
 },
 "nbformat": 4,
 "nbformat_minor": 2
}
