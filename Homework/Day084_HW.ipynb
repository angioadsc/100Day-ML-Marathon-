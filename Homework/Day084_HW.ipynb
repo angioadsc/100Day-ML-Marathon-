{
 "cells": [
  {
   "cell_type": "markdown",
   "metadata": {},
   "source": [
    "## Work\n",
    "### 請結合前面的知識與程式碼，比較不同的 regularization 的組合對訓練的結果與影響：如 dropout, regularizers, batch-normalization 等"
   ]
  },
  {
   "cell_type": "code",
   "execution_count": 1,
   "metadata": {},
   "outputs": [
    {
     "name": "stderr",
     "output_type": "stream",
     "text": [
      "C:\\Users\\User\\Anaconda3\\lib\\site-packages\\h5py\\__init__.py:36: FutureWarning: Conversion of the second argument of issubdtype from `float` to `np.floating` is deprecated. In future, it will be treated as `np.float64 == np.dtype(float).type`.\n",
      "  from ._conv import register_converters as _register_converters\n",
      "Using TensorFlow backend.\n"
     ]
    }
   ],
   "source": [
    "import os\n",
    "import keras\n",
    "import itertools\n",
    "# Disable GPU\n",
    "os.environ[\"CUDA_VISIBLE_DEVICES\"] = \"\""
   ]
  },
  {
   "cell_type": "code",
   "execution_count": 4,
   "metadata": {},
   "outputs": [],
   "source": [
    "train, test = keras.datasets.cifar10.load_data()"
   ]
  },
  {
   "cell_type": "code",
   "execution_count": 5,
   "metadata": {},
   "outputs": [],
   "source": [
    "## 資料前處理\n",
    "def preproc_x(x, flatten=True):\n",
    "    x = x / 255.\n",
    "    if flatten:\n",
    "        x = x.reshape((len(x), -1))\n",
    "    return x\n",
    "\n",
    "def preproc_y(y, num_classes=10):\n",
    "    if y.shape[-1] == 1:\n",
    "        y = keras.utils.to_categorical(y, num_classes)\n",
    "    return y    "
   ]
  },
  {
   "cell_type": "code",
   "execution_count": 6,
   "metadata": {},
   "outputs": [],
   "source": [
    "x_train, y_train = train\n",
    "x_test, y_test = test\n",
    "\n",
    "# Preproc the inputs\n",
    "x_train = preproc_x(x_train)\n",
    "x_test = preproc_x(x_test)\n",
    "\n",
    "# Preprc the outputs\n",
    "y_train = preproc_y(y_train)\n",
    "y_test = preproc_y(y_test)"
   ]
  },
  {
   "cell_type": "code",
   "execution_count": 7,
   "metadata": {},
   "outputs": [],
   "source": [
    "from keras.layers import BatchNormalization\n",
    "def build_mlp(input_shape, output_units=10, num_neurons=[512, 256, 128]):\n",
    "    \"\"\"Code Here\n",
    "    建立你的神經網路\n",
    "    \"\"\"\n",
    "    input_layer = keras.layers.Input(input_shape)\n",
    "    \n",
    "    for i, n_units in enumerate(num_neurons):\n",
    "        if i == 0:\n",
    "            x = keras.layers.Dense(units=n_units, \n",
    "                                   activation=\"relu\", \n",
    "                                   name=\"hidden_layer\"+str(i+1))(input_layer)\n",
    "            x = BatchNormalization()(x)\n",
    "        else:\n",
    "            x = keras.layers.Dense(units=n_units, \n",
    "                                   activation=\"relu\", \n",
    "                                   name=\"hidden_layer\"+str(i+1))(x)\n",
    "            x = BatchNormalization()(x)\n",
    "    \n",
    "    out = keras.layers.Dense(units=output_units, activation=\"softmax\", name=\"output\")(x)\n",
    "    \n",
    "    model = keras.models.Model(inputs=[input_layer], outputs=[out])\n",
    "    return model"
   ]
  },
  {
   "cell_type": "code",
   "execution_count": 8,
   "metadata": {},
   "outputs": [],
   "source": [
    "\"\"\"Code Here\n",
    "設定超參數\n",
    "\"\"\"\n",
    "LEARNING_RATE = 1e-3\n",
    "EPOCHS = 50\n",
    "BATCH_SIZE = 1024\n",
    "MOMENTUM = 0.95"
   ]
  },
  {
   "cell_type": "code",
   "execution_count": 9,
   "metadata": {
    "scrolled": true
   },
   "outputs": [
    {
     "name": "stdout",
     "output_type": "stream",
     "text": [
      "WARNING:tensorflow:From C:\\Users\\User\\Anaconda3\\lib\\site-packages\\tensorflow\\python\\framework\\op_def_library.py:263: colocate_with (from tensorflow.python.framework.ops) is deprecated and will be removed in a future version.\n",
      "Instructions for updating:\n",
      "Colocations handled automatically by placer.\n",
      "_________________________________________________________________\n",
      "Layer (type)                 Output Shape              Param #   \n",
      "=================================================================\n",
      "input_1 (InputLayer)         (None, 3072)              0         \n",
      "_________________________________________________________________\n",
      "hidden_layer1 (Dense)        (None, 512)               1573376   \n",
      "_________________________________________________________________\n",
      "batch_normalization_1 (Batch (None, 512)               2048      \n",
      "_________________________________________________________________\n",
      "hidden_layer2 (Dense)        (None, 256)               131328    \n",
      "_________________________________________________________________\n",
      "batch_normalization_2 (Batch (None, 256)               1024      \n",
      "_________________________________________________________________\n",
      "hidden_layer3 (Dense)        (None, 128)               32896     \n",
      "_________________________________________________________________\n",
      "batch_normalization_3 (Batch (None, 128)               512       \n",
      "_________________________________________________________________\n",
      "output (Dense)               (None, 10)                1290      \n",
      "=================================================================\n",
      "Total params: 1,742,474\n",
      "Trainable params: 1,740,682\n",
      "Non-trainable params: 1,792\n",
      "_________________________________________________________________\n",
      "WARNING:tensorflow:From C:\\Users\\User\\Anaconda3\\lib\\site-packages\\tensorflow\\python\\ops\\math_ops.py:3066: to_int32 (from tensorflow.python.ops.math_ops) is deprecated and will be removed in a future version.\n",
      "Instructions for updating:\n",
      "Use tf.cast instead.\n",
      "Train on 50000 samples, validate on 10000 samples\n",
      "Epoch 1/50\n",
      "50000/50000 [==============================] - 6s 127us/step - loss: 2.2149 - acc: 0.2716 - val_loss: 2.1144 - val_acc: 0.3126\n",
      "Epoch 2/50\n",
      "50000/50000 [==============================] - 6s 110us/step - loss: 1.7494 - acc: 0.3934 - val_loss: 1.8332 - val_acc: 0.3697\n",
      "Epoch 3/50\n",
      "50000/50000 [==============================] - 5s 109us/step - loss: 1.6243 - acc: 0.4323 - val_loss: 1.7198 - val_acc: 0.4013\n",
      "Epoch 4/50\n",
      "50000/50000 [==============================] - 6s 112us/step - loss: 1.5539 - acc: 0.4573 - val_loss: 1.6766 - val_acc: 0.4182\n",
      "Epoch 5/50\n",
      "50000/50000 [==============================] - 5s 109us/step - loss: 1.4971 - acc: 0.4764 - val_loss: 1.6212 - val_acc: 0.4350\n",
      "Epoch 6/50\n",
      "50000/50000 [==============================] - 5s 110us/step - loss: 1.4525 - acc: 0.4928 - val_loss: 1.5831 - val_acc: 0.4438\n",
      "Epoch 7/50\n",
      "50000/50000 [==============================] - 6s 113us/step - loss: 1.4099 - acc: 0.5088 - val_loss: 1.5480 - val_acc: 0.4535\n",
      "Epoch 8/50\n",
      "50000/50000 [==============================] - 5s 109us/step - loss: 1.3733 - acc: 0.5225 - val_loss: 1.5386 - val_acc: 0.4609\n",
      "Epoch 9/50\n",
      "50000/50000 [==============================] - 5s 109us/step - loss: 1.3416 - acc: 0.5346 - val_loss: 1.5221 - val_acc: 0.4653\n",
      "Epoch 10/50\n",
      "50000/50000 [==============================] - 6s 114us/step - loss: 1.3097 - acc: 0.5446 - val_loss: 1.5160 - val_acc: 0.4696\n",
      "Epoch 11/50\n",
      "50000/50000 [==============================] - 5s 108us/step - loss: 1.2811 - acc: 0.5542 - val_loss: 1.5024 - val_acc: 0.4754\n",
      "Epoch 12/50\n",
      "50000/50000 [==============================] - 5s 109us/step - loss: 1.2551 - acc: 0.5657 - val_loss: 1.4917 - val_acc: 0.4763\n",
      "Epoch 13/50\n",
      "50000/50000 [==============================] - 6s 113us/step - loss: 1.2284 - acc: 0.5754 - val_loss: 1.4718 - val_acc: 0.4876\n",
      "Epoch 14/50\n",
      "50000/50000 [==============================] - 5s 109us/step - loss: 1.2032 - acc: 0.5852 - val_loss: 1.4837 - val_acc: 0.4811\n",
      "Epoch 15/50\n",
      "50000/50000 [==============================] - 5s 109us/step - loss: 1.1797 - acc: 0.5962 - val_loss: 1.4769 - val_acc: 0.4826\n",
      "Epoch 16/50\n",
      "50000/50000 [==============================] - 6s 111us/step - loss: 1.1533 - acc: 0.6028 - val_loss: 1.4653 - val_acc: 0.4872\n",
      "Epoch 17/50\n",
      "50000/50000 [==============================] - 5s 108us/step - loss: 1.1320 - acc: 0.6111 - val_loss: 1.4608 - val_acc: 0.4891\n",
      "Epoch 18/50\n",
      "50000/50000 [==============================] - 6s 111us/step - loss: 1.1088 - acc: 0.6212 - val_loss: 1.4539 - val_acc: 0.4924\n",
      "Epoch 19/50\n",
      "50000/50000 [==============================] - 6s 114us/step - loss: 1.0851 - acc: 0.6298 - val_loss: 1.4549 - val_acc: 0.4881\n",
      "Epoch 20/50\n",
      "50000/50000 [==============================] - 5s 109us/step - loss: 1.0625 - acc: 0.6393 - val_loss: 1.4532 - val_acc: 0.4923\n",
      "Epoch 21/50\n",
      "50000/50000 [==============================] - 6s 111us/step - loss: 1.0428 - acc: 0.6467 - val_loss: 1.4649 - val_acc: 0.4861\n",
      "Epoch 22/50\n",
      "50000/50000 [==============================] - 5s 110us/step - loss: 1.0209 - acc: 0.6547 - val_loss: 1.4568 - val_acc: 0.4959\n",
      "Epoch 23/50\n",
      "50000/50000 [==============================] - 5s 109us/step - loss: 0.9999 - acc: 0.6635 - val_loss: 1.4605 - val_acc: 0.4964\n",
      "Epoch 24/50\n",
      "50000/50000 [==============================] - 6s 110us/step - loss: 0.9791 - acc: 0.6705 - val_loss: 1.4555 - val_acc: 0.4948\n",
      "Epoch 25/50\n",
      "50000/50000 [==============================] - 6s 111us/step - loss: 0.9573 - acc: 0.6789 - val_loss: 1.4603 - val_acc: 0.5004\n",
      "Epoch 26/50\n",
      "50000/50000 [==============================] - 6s 110us/step - loss: 0.9382 - acc: 0.6870 - val_loss: 1.4759 - val_acc: 0.4932\n",
      "Epoch 27/50\n",
      "50000/50000 [==============================] - 6s 113us/step - loss: 0.9191 - acc: 0.6924 - val_loss: 1.4850 - val_acc: 0.4983\n",
      "Epoch 28/50\n",
      "50000/50000 [==============================] - 6s 115us/step - loss: 0.8986 - acc: 0.7012 - val_loss: 1.4716 - val_acc: 0.4992\n",
      "Epoch 29/50\n",
      "50000/50000 [==============================] - 5s 109us/step - loss: 0.8777 - acc: 0.7095 - val_loss: 1.4704 - val_acc: 0.4968\n",
      "Epoch 30/50\n",
      "50000/50000 [==============================] - 6s 114us/step - loss: 0.8566 - acc: 0.7187 - val_loss: 1.4840 - val_acc: 0.4979\n",
      "Epoch 31/50\n",
      "50000/50000 [==============================] - 5s 109us/step - loss: 0.8382 - acc: 0.7266 - val_loss: 1.4742 - val_acc: 0.4991\n",
      "Epoch 32/50\n",
      "50000/50000 [==============================] - 5s 110us/step - loss: 0.8191 - acc: 0.7312 - val_loss: 1.4969 - val_acc: 0.4951\n",
      "Epoch 33/50\n",
      "50000/50000 [==============================] - 6s 111us/step - loss: 0.8009 - acc: 0.7384 - val_loss: 1.5095 - val_acc: 0.4973\n",
      "Epoch 34/50\n",
      "50000/50000 [==============================] - 6s 112us/step - loss: 0.7810 - acc: 0.7456 - val_loss: 1.5134 - val_acc: 0.4948\n",
      "Epoch 35/50\n",
      "50000/50000 [==============================] - 6s 115us/step - loss: 0.7601 - acc: 0.7555 - val_loss: 1.5034 - val_acc: 0.5061\n",
      "Epoch 36/50\n",
      "50000/50000 [==============================] - 6s 114us/step - loss: 0.7423 - acc: 0.7624 - val_loss: 1.5178 - val_acc: 0.4994\n",
      "Epoch 37/50\n",
      "50000/50000 [==============================] - 6s 112us/step - loss: 0.7226 - acc: 0.7716 - val_loss: 1.5161 - val_acc: 0.5001\n",
      "Epoch 38/50\n",
      "50000/50000 [==============================] - 6s 113us/step - loss: 0.7054 - acc: 0.7771 - val_loss: 1.5312 - val_acc: 0.5033\n",
      "Epoch 39/50\n",
      "50000/50000 [==============================] - 6s 116us/step - loss: 0.6877 - acc: 0.7854 - val_loss: 1.5387 - val_acc: 0.4973\n",
      "Epoch 40/50\n",
      "50000/50000 [==============================] - 6s 111us/step - loss: 0.6682 - acc: 0.7926 - val_loss: 1.5476 - val_acc: 0.4923\n",
      "Epoch 41/50\n",
      "50000/50000 [==============================] - 6s 111us/step - loss: 0.6504 - acc: 0.7993 - val_loss: 1.5610 - val_acc: 0.4982\n",
      "Epoch 42/50\n",
      "50000/50000 [==============================] - 6s 114us/step - loss: 0.6308 - acc: 0.8088 - val_loss: 1.5959 - val_acc: 0.4953\n",
      "Epoch 43/50\n",
      "50000/50000 [==============================] - 5s 109us/step - loss: 0.6144 - acc: 0.8142 - val_loss: 1.5917 - val_acc: 0.4919\n",
      "Epoch 44/50\n",
      "50000/50000 [==============================] - 6s 111us/step - loss: 0.5966 - acc: 0.8214 - val_loss: 1.6036 - val_acc: 0.4956\n",
      "Epoch 45/50\n"
     ]
    },
    {
     "name": "stdout",
     "output_type": "stream",
     "text": [
      "50000/50000 [==============================] - 6s 112us/step - loss: 0.5787 - acc: 0.8278 - val_loss: 1.5937 - val_acc: 0.4991\n",
      "Epoch 46/50\n",
      "50000/50000 [==============================] - 5s 108us/step - loss: 0.5612 - acc: 0.8361 - val_loss: 1.6057 - val_acc: 0.4952\n",
      "Epoch 47/50\n",
      "50000/50000 [==============================] - 6s 110us/step - loss: 0.5449 - acc: 0.8407 - val_loss: 1.6282 - val_acc: 0.4982\n",
      "Epoch 48/50\n",
      "50000/50000 [==============================] - 6s 110us/step - loss: 0.5291 - acc: 0.8477 - val_loss: 1.6389 - val_acc: 0.4991\n",
      "Epoch 49/50\n",
      "50000/50000 [==============================] - 5s 109us/step - loss: 0.5111 - acc: 0.8551 - val_loss: 1.6618 - val_acc: 0.4948\n",
      "Epoch 50/50\n",
      "50000/50000 [==============================] - 6s 112us/step - loss: 0.4948 - acc: 0.8606 - val_loss: 1.6603 - val_acc: 0.4937\n"
     ]
    }
   ],
   "source": [
    "results = {}\n",
    "\"\"\"Code Here\n",
    "撰寫你的訓練流程並將結果用 dictionary 紀錄\n",
    "\"\"\"\n",
    "model = build_mlp(input_shape=x_train.shape[1:])\n",
    "model.summary()\n",
    "optimizer = keras.optimizers.SGD(lr=LEARNING_RATE, nesterov=True, momentum=MOMENTUM)\n",
    "model.compile(loss=\"categorical_crossentropy\", metrics=[\"accuracy\"], optimizer=optimizer)\n",
    "\n",
    "model.fit(x_train, y_train, \n",
    "          epochs=EPOCHS, \n",
    "          batch_size=BATCH_SIZE, \n",
    "          validation_data=(x_test, y_test), \n",
    "          shuffle=True)\n",
    "\n",
    "# Collect results\n",
    "train_loss = model.history.history[\"loss\"]\n",
    "valid_loss = model.history.history[\"val_loss\"]\n",
    "train_acc = model.history.history[\"acc\"]\n",
    "valid_acc = model.history.history[\"val_acc\"]"
   ]
  },
  {
   "cell_type": "code",
   "execution_count": 10,
   "metadata": {},
   "outputs": [
    {
     "data": {
      "image/png": "[encoded data removed]",
      "text/plain": [
       "<Figure size 432x288 with 1 Axes>"
      ]
     },
     "metadata": {},
     "output_type": "display_data"
    },
    {
     "data": {
      "image/png": "[encoded data removed]",
      "text/plain": [
       "<Figure size 432x288 with 1 Axes>"
      ]
     },
     "metadata": {},
     "output_type": "display_data"
    }
   ],
   "source": [
    "import matplotlib.pyplot as plt\n",
    "%matplotlib inline\n",
    "\"\"\"Code Here\n",
    "將結果繪出\n",
    "\"\"\"\n",
    "plt.plot(range(len(train_loss)), train_loss, label=\"train loss\")\n",
    "plt.plot(range(len(valid_loss)), valid_loss, label=\"valid loss\")\n",
    "plt.legend()\n",
    "plt.title(\"Loss\")\n",
    "plt.show()\n",
    "\n",
    "plt.plot(range(len(train_acc)), train_acc, label=\"train accuracy\")\n",
    "plt.plot(range(len(valid_acc)), valid_acc, label=\"valid accuracy\")\n",
    "plt.legend()\n",
    "plt.title(\"Accuracy\")\n",
    "plt.show()"
   ]
  },
  {
   "cell_type": "code",
   "execution_count": null,
   "metadata": {},
   "outputs": [],
   "source": []
  }
 ],
 "metadata": {
  "kernelspec": {
   "display_name": "Python 3",
   "language": "python",
   "name": "python3"
  },
  "language_info": {
   "codemirror_mode": {
    "name": "ipython",
    "version": 3
   },
   "file_extension": ".py",
   "mimetype": "text/x-python",
   "name": "python",
   "nbconvert_exporter": "python",
   "pygments_lexer": "ipython3",
   "version": "3.6.4"
  }
 },
 "nbformat": 4,
 "nbformat_minor": 2
}
