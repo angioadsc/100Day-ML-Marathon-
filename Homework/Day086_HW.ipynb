{
 "cells": [
  {
   "cell_type": "markdown",
   "metadata": {},
   "source": [
    "## Work\n",
    "1. 試比較 save_best_only 與否的差異\n",
    "2. 請僅存入將 save_weights_only 設定為 True, 並嘗試 reset ipynb 並將模型與權重重新建回並預測 x_test"
   ]
  },
  {
   "cell_type": "code",
   "execution_count": 1,
   "metadata": {},
   "outputs": [
    {
     "name": "stderr",
     "output_type": "stream",
     "text": [
      "C:\\Users\\User\\Anaconda3\\lib\\site-packages\\h5py\\__init__.py:36: FutureWarning: Conversion of the second argument of issubdtype from `float` to `np.floating` is deprecated. In future, it will be treated as `np.float64 == np.dtype(float).type`.\n",
      "  from ._conv import register_converters as _register_converters\n",
      "Using TensorFlow backend.\n"
     ]
    }
   ],
   "source": [
    "import os\n",
    "import keras\n",
    "\n",
    "# Disable GPU\n",
    "os.environ[\"CUDA_VISIBLE_DEVICES\"] = \"\""
   ]
  },
  {
   "cell_type": "code",
   "execution_count": 2,
   "metadata": {},
   "outputs": [],
   "source": [
    "train, test = keras.datasets.cifar10.load_data()"
   ]
  },
  {
   "cell_type": "code",
   "execution_count": 3,
   "metadata": {},
   "outputs": [],
   "source": [
    "## 資料前處理\n",
    "def preproc_x(x, flatten=True):\n",
    "    x = x / 255.\n",
    "    if flatten:\n",
    "        x = x.reshape((len(x), -1))\n",
    "    return x\n",
    "\n",
    "def preproc_y(y, num_classes=10):\n",
    "    if y.shape[-1] == 1:\n",
    "        y = keras.utils.to_categorical(y, num_classes)\n",
    "    return y    "
   ]
  },
  {
   "cell_type": "code",
   "execution_count": 4,
   "metadata": {},
   "outputs": [],
   "source": [
    "x_train, y_train = train\n",
    "x_test, y_test = test\n",
    "\n",
    "# Preproc the inputs\n",
    "x_train = preproc_x(x_train)\n",
    "x_test = preproc_x(x_test)\n",
    "\n",
    "# Preprc the outputs\n",
    "y_train = preproc_y(y_train)\n",
    "y_test = preproc_y(y_test)"
   ]
  },
  {
   "cell_type": "code",
   "execution_count": 5,
   "metadata": {},
   "outputs": [],
   "source": [
    "from keras.layers import BatchNormalization\n",
    "def build_mlp(input_shape, output_units=10, num_neurons=[512, 256, 128]):\n",
    "    \"\"\"Code Here\n",
    "    建立你的神經網路\n",
    "    \"\"\"\n",
    "    input_layer = keras.layers.Input(input_shape)\n",
    "    \n",
    "    for i, n_units in enumerate(num_neurons):\n",
    "        if i == 0:\n",
    "            x = keras.layers.Dense(units=n_units, \n",
    "                                   activation=\"relu\", \n",
    "                                   name=\"hidden_layer\"+str(i+1))(input_layer)\n",
    "            x = BatchNormalization()(x)\n",
    "        else:\n",
    "            x = keras.layers.Dense(units=n_units, \n",
    "                                   activation=\"relu\", \n",
    "                                   name=\"hidden_layer\"+str(i+1))(x)\n",
    "            x = BatchNormalization()(x)\n",
    "    \n",
    "    out = keras.layers.Dense(units=output_units, activation=\"softmax\", name=\"output\")(x)\n",
    "    \n",
    "    model = keras.models.Model(inputs=[input_layer], outputs=[out])\n",
    "    return model"
   ]
  },
  {
   "cell_type": "code",
   "execution_count": 6,
   "metadata": {},
   "outputs": [],
   "source": [
    "\"\"\"Code Here\n",
    "設定超參數\n",
    "\"\"\"\n",
    "LEARNING_RATE = 1e-3\n",
    "EPOCHS = 50\n",
    "BATCH_SIZE = 1024\n",
    "MOMENTUM = 0.95"
   ]
  },
  {
   "cell_type": "code",
   "execution_count": 7,
   "metadata": {},
   "outputs": [
    {
     "name": "stdout",
     "output_type": "stream",
     "text": [
      "WARNING:tensorflow:From C:\\Users\\User\\Anaconda3\\lib\\site-packages\\tensorflow\\python\\framework\\op_def_library.py:263: colocate_with (from tensorflow.python.framework.ops) is deprecated and will be removed in a future version.\n",
      "Instructions for updating:\n",
      "Colocations handled automatically by placer.\n",
      "_________________________________________________________________\n",
      "Layer (type)                 Output Shape              Param #   \n",
      "=================================================================\n",
      "input_1 (InputLayer)         (None, 3072)              0         \n",
      "_________________________________________________________________\n",
      "hidden_layer1 (Dense)        (None, 512)               1573376   \n",
      "_________________________________________________________________\n",
      "batch_normalization_1 (Batch (None, 512)               2048      \n",
      "_________________________________________________________________\n",
      "hidden_layer2 (Dense)        (None, 256)               131328    \n",
      "_________________________________________________________________\n",
      "batch_normalization_2 (Batch (None, 256)               1024      \n",
      "_________________________________________________________________\n",
      "hidden_layer3 (Dense)        (None, 128)               32896     \n",
      "_________________________________________________________________\n",
      "batch_normalization_3 (Batch (None, 128)               512       \n",
      "_________________________________________________________________\n",
      "output (Dense)               (None, 10)                1290      \n",
      "=================================================================\n",
      "Total params: 1,742,474\n",
      "Trainable params: 1,740,682\n",
      "Non-trainable params: 1,792\n",
      "_________________________________________________________________\n",
      "WARNING:tensorflow:From C:\\Users\\User\\Anaconda3\\lib\\site-packages\\tensorflow\\python\\ops\\math_ops.py:3066: to_int32 (from tensorflow.python.ops.math_ops) is deprecated and will be removed in a future version.\n",
      "Instructions for updating:\n",
      "Use tf.cast instead.\n",
      "Train on 50000 samples, validate on 10000 samples\n",
      "Epoch 1/50\n",
      "50000/50000 [==============================] - 6s 125us/step - loss: 2.2027 - acc: 0.2757 - val_loss: 2.0559 - val_acc: 0.3249\n",
      "Epoch 2/50\n",
      "50000/50000 [==============================] - 6s 111us/step - loss: 1.7307 - acc: 0.3965 - val_loss: 1.7673 - val_acc: 0.3875\n",
      "Epoch 3/50\n",
      "50000/50000 [==============================] - 6s 111us/step - loss: 1.6009 - acc: 0.4405 - val_loss: 1.6700 - val_acc: 0.4158\n",
      "Epoch 4/50\n",
      "50000/50000 [==============================] - 6s 114us/step - loss: 1.5273 - acc: 0.4662 - val_loss: 1.6179 - val_acc: 0.4345\n",
      "Epoch 5/50\n",
      "50000/50000 [==============================] - 6s 114us/step - loss: 1.4724 - acc: 0.4885 - val_loss: 1.5885 - val_acc: 0.4423\n",
      "Epoch 6/50\n",
      "50000/50000 [==============================] - 6s 112us/step - loss: 1.4253 - acc: 0.5041 - val_loss: 1.5748 - val_acc: 0.4422\n",
      "Epoch 7/50\n",
      "50000/50000 [==============================] - 6s 113us/step - loss: 1.3852 - acc: 0.5191 - val_loss: 1.5290 - val_acc: 0.4596\n",
      "Epoch 8/50\n",
      "50000/50000 [==============================] - 6s 117us/step - loss: 1.3535 - acc: 0.5292 - val_loss: 1.5166 - val_acc: 0.4643\n",
      "Epoch 9/50\n",
      "50000/50000 [==============================] - 6s 115us/step - loss: 1.3229 - acc: 0.5411 - val_loss: 1.5205 - val_acc: 0.4682\n",
      "Epoch 10/50\n",
      "50000/50000 [==============================] - 6s 119us/step - loss: 1.2933 - acc: 0.5510 - val_loss: 1.4939 - val_acc: 0.4759\n",
      "Epoch 11/50\n",
      "50000/50000 [==============================] - 6s 120us/step - loss: 1.2655 - acc: 0.5622 - val_loss: 1.4878 - val_acc: 0.4743\n",
      "Epoch 12/50\n",
      "50000/50000 [==============================] - 6s 119us/step - loss: 1.2404 - acc: 0.5707 - val_loss: 1.4859 - val_acc: 0.4806\n",
      "Epoch 13/50\n",
      "50000/50000 [==============================] - 6s 122us/step - loss: 1.2150 - acc: 0.5807 - val_loss: 1.4877 - val_acc: 0.4717\n",
      "Epoch 14/50\n",
      "50000/50000 [==============================] - 6s 121us/step - loss: 1.1909 - acc: 0.5906 - val_loss: 1.4646 - val_acc: 0.4836\n",
      "Epoch 15/50\n",
      "50000/50000 [==============================] - 6s 118us/step - loss: 1.1672 - acc: 0.5987 - val_loss: 1.4687 - val_acc: 0.4821\n",
      "Epoch 16/50\n",
      "50000/50000 [==============================] - 6s 122us/step - loss: 1.1448 - acc: 0.6072 - val_loss: 1.4623 - val_acc: 0.4876\n",
      "Epoch 17/50\n",
      "50000/50000 [==============================] - 6s 129us/step - loss: 1.1228 - acc: 0.6154 - val_loss: 1.4552 - val_acc: 0.4924\n",
      "Epoch 18/50\n",
      "50000/50000 [==============================] - 6s 124us/step - loss: 1.1012 - acc: 0.6225 - val_loss: 1.4557 - val_acc: 0.4900\n",
      "Epoch 19/50\n",
      "50000/50000 [==============================] - 7s 142us/step - loss: 1.0797 - acc: 0.6297 - val_loss: 1.4524 - val_acc: 0.4913\n",
      "Epoch 20/50\n",
      "50000/50000 [==============================] - 7s 136us/step - loss: 1.0595 - acc: 0.6374 - val_loss: 1.4577 - val_acc: 0.4870\n",
      "Epoch 21/50\n",
      "50000/50000 [==============================] - 7s 144us/step - loss: 1.0380 - acc: 0.6457 - val_loss: 1.4580 - val_acc: 0.4934\n",
      "Epoch 22/50\n",
      "50000/50000 [==============================] - 7s 136us/step - loss: 1.0190 - acc: 0.6536 - val_loss: 1.4597 - val_acc: 0.4958\n",
      "Epoch 23/50\n",
      "50000/50000 [==============================] - 7s 146us/step - loss: 0.9974 - acc: 0.6617 - val_loss: 1.4666 - val_acc: 0.4885\n",
      "Epoch 24/50\n",
      "50000/50000 [==============================] - 7s 131us/step - loss: 0.9765 - acc: 0.6693 - val_loss: 1.4624 - val_acc: 0.4906\n",
      "Epoch 25/50\n",
      "50000/50000 [==============================] - 7s 132us/step - loss: 0.9579 - acc: 0.6773 - val_loss: 1.4682 - val_acc: 0.4852\n",
      "Epoch 26/50\n",
      "50000/50000 [==============================] - 7s 143us/step - loss: 0.9379 - acc: 0.6841 - val_loss: 1.4675 - val_acc: 0.4890\n",
      "Epoch 27/50\n",
      "50000/50000 [==============================] - 7s 131us/step - loss: 0.9174 - acc: 0.6924 - val_loss: 1.4698 - val_acc: 0.4896\n",
      "Epoch 28/50\n",
      "50000/50000 [==============================] - 7s 138us/step - loss: 0.8986 - acc: 0.6998 - val_loss: 1.4858 - val_acc: 0.4881\n",
      "Epoch 29/50\n",
      "50000/50000 [==============================] - 7s 144us/step - loss: 0.8803 - acc: 0.7056 - val_loss: 1.4799 - val_acc: 0.4897\n",
      "Epoch 30/50\n",
      "50000/50000 [==============================] - 7s 135us/step - loss: 0.8603 - acc: 0.7138 - val_loss: 1.4890 - val_acc: 0.4950\n",
      "Epoch 31/50\n",
      "50000/50000 [==============================] - 7s 147us/step - loss: 0.8428 - acc: 0.7221 - val_loss: 1.4892 - val_acc: 0.4886\n",
      "Epoch 32/50\n",
      "50000/50000 [==============================] - 7s 142us/step - loss: 0.8229 - acc: 0.7294 - val_loss: 1.5034 - val_acc: 0.4862\n",
      "Epoch 33/50\n",
      "50000/50000 [==============================] - 8s 151us/step - loss: 0.8020 - acc: 0.7382 - val_loss: 1.5122 - val_acc: 0.4917\n",
      "Epoch 34/50\n",
      "50000/50000 [==============================] - 7s 145us/step - loss: 0.7847 - acc: 0.7451 - val_loss: 1.5253 - val_acc: 0.4890\n",
      "Epoch 35/50\n",
      "50000/50000 [==============================] - 7s 148us/step - loss: 0.7657 - acc: 0.7516 - val_loss: 1.5226 - val_acc: 0.4859\n",
      "Epoch 36/50\n",
      "50000/50000 [==============================] - 7s 134us/step - loss: 0.7489 - acc: 0.7581 - val_loss: 1.5197 - val_acc: 0.4938\n",
      "Epoch 37/50\n",
      "50000/50000 [==============================] - 7s 140us/step - loss: 0.7285 - acc: 0.7669 - val_loss: 1.5470 - val_acc: 0.4863\n",
      "Epoch 38/50\n",
      "50000/50000 [==============================] - 7s 140us/step - loss: 0.7112 - acc: 0.7734 - val_loss: 1.5361 - val_acc: 0.4845\n",
      "Epoch 39/50\n",
      "50000/50000 [==============================] - 7s 138us/step - loss: 0.6925 - acc: 0.7813 - val_loss: 1.5671 - val_acc: 0.4838\n",
      "Epoch 40/50\n",
      "50000/50000 [==============================] - 7s 150us/step - loss: 0.6783 - acc: 0.7870 - val_loss: 1.5799 - val_acc: 0.4926\n",
      "Epoch 41/50\n",
      "50000/50000 [==============================] - 7s 148us/step - loss: 0.6581 - acc: 0.7969 - val_loss: 1.5746 - val_acc: 0.4932\n",
      "Epoch 42/50\n",
      "50000/50000 [==============================] - 8s 155us/step - loss: 0.6413 - acc: 0.8025 - val_loss: 1.5884 - val_acc: 0.4880\n",
      "Epoch 43/50\n",
      "50000/50000 [==============================] - 7s 141us/step - loss: 0.6239 - acc: 0.8093 - val_loss: 1.5936 - val_acc: 0.4862\n",
      "Epoch 44/50\n",
      "50000/50000 [==============================] - 7s 148us/step - loss: 0.6042 - acc: 0.8182 - val_loss: 1.6192 - val_acc: 0.4855\n",
      "Epoch 45/50\n"
     ]
    },
    {
     "name": "stdout",
     "output_type": "stream",
     "text": [
      "50000/50000 [==============================] - 6s 130us/step - loss: 0.5860 - acc: 0.8247 - val_loss: 1.6565 - val_acc: 0.4797\n",
      "Epoch 46/50\n",
      "50000/50000 [==============================] - 7s 142us/step - loss: 0.5704 - acc: 0.8322 - val_loss: 1.6316 - val_acc: 0.4853\n",
      "Epoch 47/50\n",
      "50000/50000 [==============================] - 7s 133us/step - loss: 0.5533 - acc: 0.8383 - val_loss: 1.6452 - val_acc: 0.4931\n",
      "Epoch 48/50\n",
      "50000/50000 [==============================] - 7s 144us/step - loss: 0.5373 - acc: 0.8452 - val_loss: 1.6674 - val_acc: 0.4863\n",
      "Epoch 49/50\n",
      "50000/50000 [==============================] - 8s 152us/step - loss: 0.5197 - acc: 0.8530 - val_loss: 1.6727 - val_acc: 0.4849\n",
      "Epoch 50/50\n",
      "50000/50000 [==============================] - 7s 135us/step - loss: 0.5052 - acc: 0.8577 - val_loss: 1.6728 - val_acc: 0.4882\n",
      "10000/10000 [==============================] - 1s 119us/step\n"
     ]
    }
   ],
   "source": [
    "# 載入 Callbacks\n",
    "\"\"\"Code Here\n",
    "設定 callbacks: model checkpoint\n",
    "\"\"\"\n",
    "from keras.callbacks import ModelCheckpoint\n",
    "\n",
    "model_ckpt = ModelCheckpoint(filepath=\"./tmp.h5\", \n",
    "                             monitor=\"val_loss\", \n",
    "                             save_best_only=True)\n",
    "results = {}\n",
    "\"\"\"Code Here\n",
    "撰寫你的訓練流程並將結果用 dictionary 紀錄\n",
    "\"\"\"\n",
    "model = build_mlp(input_shape=x_train.shape[1:])\n",
    "model.summary()\n",
    "optimizer = keras.optimizers.SGD(lr=LEARNING_RATE, nesterov=True, momentum=MOMENTUM)\n",
    "model.compile(loss=\"categorical_crossentropy\", metrics=[\"accuracy\"], optimizer=optimizer)\n",
    "\n",
    "model.fit(x_train, y_train, \n",
    "          epochs=EPOCHS, \n",
    "          batch_size=BATCH_SIZE, \n",
    "          validation_data=(x_test, y_test), \n",
    "          shuffle=True,\n",
    "          callbacks=[model_ckpt]\n",
    "         )\n",
    "\n",
    "# Collect results\n",
    "train_loss = model.history.history[\"loss\"]\n",
    "valid_loss = model.history.history[\"val_loss\"]\n",
    "train_acc = model.history.history[\"acc\"]\n",
    "valid_acc = model.history.history[\"val_acc\"]\n",
    "\n",
    "# Load back\n",
    "model = keras.models.load_model(\"./tmp.h5\")\n",
    "loss_loadback, acc_loadback = model.evaluate(x_test, y_test)"
   ]
  },
  {
   "cell_type": "code",
   "execution_count": 8,
   "metadata": {
    "scrolled": true
   },
   "outputs": [
    {
     "data": {
      "image/png": "[encoded data removed]",
      "text/plain": [
       "<Figure size 432x288 with 1 Axes>"
      ]
     },
     "metadata": {},
     "output_type": "display_data"
    },
    {
     "data": {
      "image/png": "[encoded data removed]",
      "text/plain": [
       "<Figure size 432x288 with 1 Axes>"
      ]
     },
     "metadata": {},
     "output_type": "display_data"
    }
   ],
   "source": [
    "import matplotlib.pyplot as plt\n",
    "%matplotlib inline\n",
    "\"\"\"Code Here\n",
    "將結果繪出\n",
    "\"\"\"\n",
    "plt.plot(range(len(train_loss)), train_loss, label=\"train loss\")\n",
    "plt.plot(range(len(valid_loss)), valid_loss, label=\"valid loss\")\n",
    "plt.hlines(y=loss_loadback, xmin=0, xmax=len(train_loss), colors='r', linestyles='--')\n",
    "plt.legend()\n",
    "plt.title(\"Loss\")\n",
    "plt.show()\n",
    "\n",
    "plt.plot(range(len(train_acc)), train_acc, label=\"train accuracy\")\n",
    "plt.plot(range(len(valid_acc)), valid_acc, label=\"valid accuracy\")\n",
    "plt.hlines(y=acc_loadback, xmin=0, xmax=len(train_loss), colors='r', linestyles='--')\n",
    "plt.legend()\n",
    "plt.title(\"Accuracy\")\n",
    "plt.show()"
   ]
  },
  {
   "cell_type": "code",
   "execution_count": null,
   "metadata": {},
   "outputs": [],
   "source": []
  }
 ],
 "metadata": {
  "kernelspec": {
   "display_name": "Python 3",
   "language": "python",
   "name": "python3"
  },
  "language_info": {
   "codemirror_mode": {
    "name": "ipython",
    "version": 3
   },
   "file_extension": ".py",
   "mimetype": "text/x-python",
   "name": "python",
   "nbconvert_exporter": "python",
   "pygments_lexer": "ipython3",
   "version": "3.6.4"
  }
 },
 "nbformat": 4,
 "nbformat_minor": 2
}
