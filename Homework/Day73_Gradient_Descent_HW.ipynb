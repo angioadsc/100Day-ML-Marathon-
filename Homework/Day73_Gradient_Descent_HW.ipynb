{
 "cells": [
  {
   "cell_type": "markdown",
   "metadata": {},
   "source": [
    "# 作業重點\n",
    "\n",
    "使用function y=(x+5)² 來練習學習率( leanrning rate ) 調整所造成的影響"
   ]
  },
  {
   "cell_type": "markdown",
   "metadata": {},
   "source": [
    "# 作業目標:\n",
    "    請嘗試使用不同的組合驗證 learning rate 對所需 iteration 的影響\n",
    "    lr = [0.1, 0.0001]\n",
    "    主要驗證 Lr 對於grandient 收斂的速度\n",
    "    "
   ]
  },
  {
   "cell_type": "code",
   "execution_count": 1,
   "metadata": {},
   "outputs": [],
   "source": [
    "cur_x = 3 # The algorithm starts at x=3\n",
    "precision = 0.000001 #This tells us when to stop the algorithm\n",
    "max_iters = 10000 # maximum number of iterations\n",
    "df = lambda x: 2*(x+5) #Gradient of our function "
   ]
  },
  {
   "cell_type": "code",
   "execution_count": 6,
   "metadata": {
    "scrolled": false
   },
   "outputs": [
    {
     "data": {
      "text/plain": [
       "'\\nwhile previous_step_size > precision and iters < max_iters:\\n\\n  算法迭代更新\\n\\nprint(\"the learning rate is\",lr, \"\\nIteration\",iters,\"\\nX value is\",cur_x) #Print iterations\\n'"
      ]
     },
     "execution_count": 6,
     "metadata": {},
     "output_type": "execute_result"
    }
   ],
   "source": [
    "lr = 0.1 # Learning rate\n",
    "previous_step_size = 1 #\n",
    "iters = 0 #iteration counter\n",
    "iters_history = [iters]\n",
    "x_history = [cur_x]\n",
    "\n",
    "'''\n",
    "需要執行初始值設定, 下列三個\n",
    "# Learning rate\n",
    "#iteration counter\n",
    "#Step size  \n",
    "'''\n",
    "'''\n",
    "while previous_step_size > precision and iters < max_iters:\n",
    "\n",
    "  算法迭代更新\n",
    "\n",
    "print(\"the learning rate is\",lr, \"\\nIteration\",iters,\"\\nX value is\",cur_x) #Print iterations\n",
    "'''"
   ]
  },
  {
   "cell_type": "code",
   "execution_count": 7,
   "metadata": {},
   "outputs": [
    {
     "name": "stdout",
     "output_type": "stream",
     "text": [
      "Iteration 1 \n",
      "X value is -4.134027422222534\n",
      "Iteration 2 \n",
      "X value is -4.307221937778027\n",
      "Iteration 3 \n",
      "X value is -4.445777550222422\n",
      "Iteration 4 \n",
      "X value is -4.556622040177937\n",
      "Iteration 5 \n",
      "X value is -4.64529763214235\n",
      "Iteration 6 \n",
      "X value is -4.71623810571388\n",
      "Iteration 7 \n",
      "X value is -4.772990484571104\n",
      "Iteration 8 \n",
      "X value is -4.818392387656884\n",
      "Iteration 9 \n",
      "X value is -4.854713910125507\n",
      "Iteration 10 \n",
      "X value is -4.883771128100405\n",
      "Iteration 11 \n",
      "X value is -4.907016902480324\n",
      "Iteration 12 \n",
      "X value is -4.925613521984259\n",
      "Iteration 13 \n",
      "X value is -4.940490817587407\n",
      "Iteration 14 \n",
      "X value is -4.952392654069926\n",
      "Iteration 15 \n",
      "X value is -4.961914123255941\n",
      "Iteration 16 \n",
      "X value is -4.969531298604752\n",
      "Iteration 17 \n",
      "X value is -4.975625038883802\n",
      "Iteration 18 \n",
      "X value is -4.9805000311070415\n",
      "Iteration 19 \n",
      "X value is -4.984400024885633\n",
      "Iteration 20 \n",
      "X value is -4.987520019908507\n",
      "Iteration 21 \n",
      "X value is -4.990016015926805\n",
      "Iteration 22 \n",
      "X value is -4.992012812741445\n",
      "Iteration 23 \n",
      "X value is -4.993610250193155\n",
      "Iteration 24 \n",
      "X value is -4.9948882001545245\n",
      "Iteration 25 \n",
      "X value is -4.99591056012362\n",
      "Iteration 26 \n",
      "X value is -4.996728448098896\n",
      "Iteration 27 \n",
      "X value is -4.997382758479117\n",
      "Iteration 28 \n",
      "X value is -4.997906206783293\n",
      "Iteration 29 \n",
      "X value is -4.998324965426635\n",
      "Iteration 30 \n",
      "X value is -4.998659972341308\n",
      "Iteration 31 \n",
      "X value is -4.998927977873047\n",
      "Iteration 32 \n",
      "X value is -4.999142382298437\n",
      "Iteration 33 \n",
      "X value is -4.99931390583875\n",
      "Iteration 34 \n",
      "X value is -4.999451124670999\n",
      "Iteration 35 \n",
      "X value is -4.9995608997367995\n",
      "Iteration 36 \n",
      "X value is -4.999648719789439\n",
      "Iteration 37 \n",
      "X value is -4.999718975831551\n",
      "Iteration 38 \n",
      "X value is -4.999775180665241\n",
      "Iteration 39 \n",
      "X value is -4.999820144532192\n",
      "Iteration 40 \n",
      "X value is -4.999856115625754\n",
      "Iteration 41 \n",
      "X value is -4.999884892500603\n",
      "Iteration 42 \n",
      "X value is -4.999907914000483\n",
      "Iteration 43 \n",
      "X value is -4.9999263312003865\n",
      "Iteration 44 \n",
      "X value is -4.999941064960309\n",
      "Iteration 45 \n",
      "X value is -4.9999528519682475\n",
      "Iteration 46 \n",
      "X value is -4.999962281574598\n",
      "Iteration 47 \n",
      "X value is -4.9999698252596785\n",
      "Iteration 48 \n",
      "X value is -4.999975860207742\n",
      "Iteration 49 \n",
      "X value is -4.999980688166194\n",
      "Iteration 50 \n",
      "X value is -4.999984550532956\n",
      "Iteration 51 \n",
      "X value is -4.999987640426364\n",
      "Iteration 52 \n",
      "X value is -4.9999901123410915\n",
      "Iteration 53 \n",
      "X value is -4.999992089872873\n",
      "Iteration 54 \n",
      "X value is -4.999993671898299\n",
      "Iteration 55 \n",
      "X value is -4.999994937518639\n",
      "Iteration 56 \n",
      "X value is -4.999995950014911\n",
      "Iteration 57 \n",
      "X value is -4.999996760011929\n"
     ]
    }
   ],
   "source": [
    "while previous_step_size > precision and iters < max_iters:\n",
    "    prev_x = cur_x #Store current x value in prev_x\n",
    "    cur_x = cur_x - lr * df(prev_x) #Gradient descent\n",
    "    previous_step_size = abs(cur_x - prev_x) # 取較大的值, Change in x\n",
    "    iters = iters+1 #iteration count\n",
    "    print(\"Iteration\",iters,\"\\nX value is\",cur_x) #Print iterations\n",
    "     # Store parameters for plotting\n",
    "    iters_history.append(iters)\n",
    "    x_history.append(cur_x)"
   ]
  },
  {
   "cell_type": "code",
   "execution_count": 8,
   "metadata": {},
   "outputs": [
    {
     "name": "stdout",
     "output_type": "stream",
     "text": [
      "Totally iteations:  57\n",
      "The local minimum occurs at -4.999996760011929\n"
     ]
    }
   ],
   "source": [
    "print(\"Totally iteations: \", iters)\n",
    "print(\"The local minimum occurs at\", cur_x)"
   ]
  },
  {
   "cell_type": "code",
   "execution_count": 9,
   "metadata": {},
   "outputs": [
    {
     "data": {
      "image/png": "[encoded data removed]",
      "text/plain": [
       "<Figure size 432x288 with 1 Axes>"
      ]
     },
     "metadata": {},
     "output_type": "display_data"
    }
   ],
   "source": [
    "import matplotlib.pyplot as plt\n",
    "%matplotlib inline \n",
    "#適用於 Jupyter Notebook, 宣告直接在cell 內印出執行結果\n",
    "\n",
    "plt.plot(iters_history, x_history, 'o-', ms=3, lw=1.5, color='black')\n",
    "plt.xlabel(r'$iters$', fontsize=16)\n",
    "plt.ylabel(r'$x$', fontsize=16)\n",
    "plt.show()"
   ]
  },
  {
   "cell_type": "code",
   "execution_count": null,
   "metadata": {},
   "outputs": [],
   "source": []
  }
 ],
 "metadata": {
  "kernelspec": {
   "display_name": "Python 3",
   "language": "python",
   "name": "python3"
  },
  "language_info": {
   "codemirror_mode": {
    "name": "ipython",
    "version": 3
   },
   "file_extension": ".py",
   "mimetype": "text/x-python",
   "name": "python",
   "nbconvert_exporter": "python",
   "pygments_lexer": "ipython3",
   "version": "3.6.4"
  }
 },
 "nbformat": 4,
 "nbformat_minor": 2
}
