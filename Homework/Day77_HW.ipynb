{
 "cells": [
  {
   "cell_type": "markdown",
   "metadata": {},
   "source": [
    "## Work\n",
    "1. 請將 Epoch 加到 500 個，並觀察 learning curve 的走勢\n",
    "2. 請將 Optimizer 換成 SGD，並觀察 learning curve 的走勢"
   ]
  },
  {
   "cell_type": "code",
   "execution_count": 1,
   "metadata": {},
   "outputs": [
    {
     "name": "stderr",
     "output_type": "stream",
     "text": [
      "C:\\Users\\User\\Anaconda3\\lib\\site-packages\\h5py\\__init__.py:36: FutureWarning: Conversion of the second argument of issubdtype from `float` to `np.floating` is deprecated. In future, it will be treated as `np.float64 == np.dtype(float).type`.\n",
      "  from ._conv import register_converters as _register_converters\n",
      "Using TensorFlow backend.\n"
     ]
    }
   ],
   "source": [
    "import os\n",
    "import keras\n",
    "\n",
    "# 本作業可以不需使用 GPU, 將 GPU 設定為 \"無\" (若有 GPU 且想開啟，可設為 \"0\")\n",
    "os.environ[\"CUDA_VISIBLE_DEVICES\"] = \"\""
   ]
  },
  {
   "cell_type": "code",
   "execution_count": 2,
   "metadata": {},
   "outputs": [],
   "source": [
    "# 從 Keras 的內建功能中，取得 train 與 test 資料集\n",
    "train, test = keras.datasets.cifar10.load_data()"
   ]
  },
  {
   "cell_type": "code",
   "execution_count": 3,
   "metadata": {},
   "outputs": [],
   "source": [
    "# 將 X 與 Y 獨立放進變數\n",
    "x_train, y_train = train\n",
    "x_test, y_test = test\n",
    "# 資料前處理 - 標準化\n",
    "x_train = x_train / 255.\n",
    "x_test = x_test / 255.\n",
    "\n",
    "# 將資料從圖形 (RGB) 轉為向量 (Single Vector)\n",
    "x_train = x_train.reshape((len(x_train), -1))\n",
    "x_test = x_test.reshape((len(x_test), -1))\n",
    "\n",
    "# 將目標轉為 one-hot encoding\n",
    "y_train = keras.utils.to_categorical(y_train, num_classes=10)\n",
    "y_test = keras.utils.to_categorical(y_test, num_classes=10)"
   ]
  },
  {
   "cell_type": "code",
   "execution_count": 4,
   "metadata": {},
   "outputs": [
    {
     "name": "stdout",
     "output_type": "stream",
     "text": [
      "WARNING:tensorflow:From C:\\Users\\User\\Anaconda3\\lib\\site-packages\\tensorflow\\python\\framework\\op_def_library.py:263: colocate_with (from tensorflow.python.framework.ops) is deprecated and will be removed in a future version.\n",
      "Instructions for updating:\n",
      "Colocations handled automatically by placer.\n"
     ]
    }
   ],
   "source": [
    "def build_mlp():\n",
    "    \"\"\"Code Here\n",
    "    建立你的神經網路\n",
    "    \"\"\"\n",
    "    input_layer = keras.layers.Input([x_train.shape[-1]])\n",
    "    x = keras.layers.Dense(units=512, activation=\"relu\")(input_layer)\n",
    "    x = keras.layers.Dense(units=256, activation=\"relu\")(x)\n",
    "    x = keras.layers.Dense(units=128, activation=\"relu\")(x)\n",
    "    out = keras.layers.Dense(units=10, activation=\"softmax\")(x)\n",
    "    \n",
    "    model = keras.models.Model(inputs=[input_layer], outputs=[out])\n",
    "    return model\n",
    "model = build_mlp()"
   ]
  },
  {
   "cell_type": "code",
   "execution_count": 5,
   "metadata": {},
   "outputs": [
    {
     "name": "stdout",
     "output_type": "stream",
     "text": [
      "_________________________________________________________________\n",
      "Layer (type)                 Output Shape              Param #   \n",
      "=================================================================\n",
      "input_2 (InputLayer)         (None, 3072)              0         \n",
      "_________________________________________________________________\n",
      "dense_5 (Dense)              (None, 512)               1573376   \n",
      "_________________________________________________________________\n",
      "dense_6 (Dense)              (None, 256)               131328    \n",
      "_________________________________________________________________\n",
      "dense_7 (Dense)              (None, 128)               32896     \n",
      "_________________________________________________________________\n",
      "dense_8 (Dense)              (None, 10)                1290      \n",
      "=================================================================\n",
      "Total params: 1,738,890\n",
      "Trainable params: 1,738,890\n",
      "Non-trainable params: 0\n",
      "_________________________________________________________________\n"
     ]
    }
   ],
   "source": [
    "\"\"\"\n",
    "Compile 模型\n",
    "\"\"\"\n",
    "model = build_mlp()\n",
    "# 用 Keras 內建方法檢視模型各層參數量\n",
    "model.summary()\n",
    "\n",
    "optimizer = keras.optimizers.Adam(lr=0.001)\n",
    "model.compile(loss=\"categorical_crossentropy\", metrics=[\"accuracy\"], optimizer=optimizer)"
   ]
  },
  {
   "cell_type": "code",
   "execution_count": 6,
   "metadata": {
    "scrolled": true
   },
   "outputs": [
    {
     "name": "stdout",
     "output_type": "stream",
     "text": [
      "WARNING:tensorflow:From C:\\Users\\User\\Anaconda3\\lib\\site-packages\\tensorflow\\python\\ops\\math_ops.py:3066: to_int32 (from tensorflow.python.ops.math_ops) is deprecated and will be removed in a future version.\n",
      "Instructions for updating:\n",
      "Use tf.cast instead.\n",
      "Train on 50000 samples, validate on 10000 samples\n",
      "Epoch 1/100\n",
      "50000/50000 [==============================] - 11s 229us/step - loss: 1.9407 - acc: 0.2971 - val_loss: 1.7862 - val_acc: 0.3692\n",
      "Epoch 2/100\n",
      "50000/50000 [==============================] - 11s 212us/step - loss: 1.7118 - acc: 0.3861 - val_loss: 1.6768 - val_acc: 0.4030\n",
      "Epoch 3/100\n",
      "50000/50000 [==============================] - 11s 228us/step - loss: 1.6252 - acc: 0.4200 - val_loss: 1.5913 - val_acc: 0.4346\n",
      "Epoch 4/100\n",
      "50000/50000 [==============================] - 10s 206us/step - loss: 1.5631 - acc: 0.4426 - val_loss: 1.5693 - val_acc: 0.4461\n",
      "Epoch 5/100\n",
      "50000/50000 [==============================] - 10s 199us/step - loss: 1.5189 - acc: 0.4574 - val_loss: 1.5605 - val_acc: 0.4448\n",
      "Epoch 6/100\n",
      "50000/50000 [==============================] - 10s 208us/step - loss: 1.4695 - acc: 0.4750 - val_loss: 1.4792 - val_acc: 0.4737\n",
      "Epoch 7/100\n",
      "50000/50000 [==============================] - 10s 207us/step - loss: 1.4357 - acc: 0.4881 - val_loss: 1.4813 - val_acc: 0.4741\n",
      "Epoch 8/100\n",
      "50000/50000 [==============================] - 11s 213us/step - loss: 1.4027 - acc: 0.4992 - val_loss: 1.4769 - val_acc: 0.4769\n",
      "Epoch 9/100\n",
      "50000/50000 [==============================] - 11s 216us/step - loss: 1.3824 - acc: 0.5058 - val_loss: 1.4500 - val_acc: 0.4908\n",
      "Epoch 10/100\n",
      "50000/50000 [==============================] - 10s 206us/step - loss: 1.3589 - acc: 0.5163 - val_loss: 1.4197 - val_acc: 0.4982\n",
      "Epoch 11/100\n",
      "50000/50000 [==============================] - 11s 211us/step - loss: 1.3292 - acc: 0.5230 - val_loss: 1.4320 - val_acc: 0.4883\n",
      "Epoch 12/100\n",
      "50000/50000 [==============================] - 11s 217us/step - loss: 1.3012 - acc: 0.5365 - val_loss: 1.3747 - val_acc: 0.5142\n",
      "Epoch 13/100\n",
      "50000/50000 [==============================] - 10s 206us/step - loss: 1.2698 - acc: 0.5470 - val_loss: 1.3780 - val_acc: 0.5118\n",
      "Epoch 14/100\n",
      "50000/50000 [==============================] - 10s 205us/step - loss: 1.2518 - acc: 0.5534 - val_loss: 1.4026 - val_acc: 0.5062\n",
      "Epoch 15/100\n",
      "50000/50000 [==============================] - 11s 215us/step - loss: 1.2386 - acc: 0.5580 - val_loss: 1.3946 - val_acc: 0.5035\n",
      "Epoch 16/100\n",
      "50000/50000 [==============================] - 11s 213us/step - loss: 1.2023 - acc: 0.5689 - val_loss: 1.4117 - val_acc: 0.5027\n",
      "Epoch 17/100\n",
      "50000/50000 [==============================] - 11s 210us/step - loss: 1.1916 - acc: 0.5742 - val_loss: 1.3848 - val_acc: 0.5197\n",
      "Epoch 18/100\n",
      "50000/50000 [==============================] - 10s 206us/step - loss: 1.1712 - acc: 0.5822 - val_loss: 1.3823 - val_acc: 0.5172\n",
      "Epoch 19/100\n",
      "50000/50000 [==============================] - 10s 205us/step - loss: 1.1468 - acc: 0.5908 - val_loss: 1.3720 - val_acc: 0.5142\n",
      "Epoch 20/100\n",
      "50000/50000 [==============================] - 11s 218us/step - loss: 1.1288 - acc: 0.5958 - val_loss: 1.3748 - val_acc: 0.5179\n",
      "Epoch 21/100\n",
      "50000/50000 [==============================] - 11s 213us/step - loss: 1.1081 - acc: 0.6038 - val_loss: 1.3655 - val_acc: 0.5231\n",
      "Epoch 22/100\n",
      "50000/50000 [==============================] - 11s 211us/step - loss: 1.0853 - acc: 0.6131 - val_loss: 1.4363 - val_acc: 0.5020\n",
      "Epoch 23/100\n",
      "50000/50000 [==============================] - 11s 215us/step - loss: 1.0747 - acc: 0.6173 - val_loss: 1.3473 - val_acc: 0.5315\n",
      "Epoch 24/100\n",
      "50000/50000 [==============================] - 11s 218us/step - loss: 1.0439 - acc: 0.6273 - val_loss: 1.3489 - val_acc: 0.5322\n",
      "Epoch 25/100\n",
      "50000/50000 [==============================] - 10s 203us/step - loss: 1.0292 - acc: 0.6321 - val_loss: 1.3667 - val_acc: 0.5331\n",
      "Epoch 26/100\n",
      "50000/50000 [==============================] - 10s 208us/step - loss: 1.0151 - acc: 0.6374 - val_loss: 1.4151 - val_acc: 0.5169\n",
      "Epoch 27/100\n",
      "50000/50000 [==============================] - 11s 215us/step - loss: 1.0025 - acc: 0.6421 - val_loss: 1.4022 - val_acc: 0.5222\n",
      "Epoch 28/100\n",
      "50000/50000 [==============================] - 11s 216us/step - loss: 0.9737 - acc: 0.6549 - val_loss: 1.3902 - val_acc: 0.5333\n",
      "Epoch 29/100\n",
      "50000/50000 [==============================] - 10s 206us/step - loss: 0.9615 - acc: 0.6565 - val_loss: 1.4363 - val_acc: 0.5167\n",
      "Epoch 30/100\n",
      "50000/50000 [==============================] - 11s 214us/step - loss: 0.9581 - acc: 0.6563 - val_loss: 1.4206 - val_acc: 0.5270\n",
      "Epoch 31/100\n",
      "50000/50000 [==============================] - 11s 210us/step - loss: 0.9254 - acc: 0.6679 - val_loss: 1.4448 - val_acc: 0.5234\n",
      "Epoch 32/100\n",
      "50000/50000 [==============================] - 11s 218us/step - loss: 0.9167 - acc: 0.6718 - val_loss: 1.4618 - val_acc: 0.5130\n",
      "Epoch 33/100\n",
      "50000/50000 [==============================] - 10s 207us/step - loss: 0.8960 - acc: 0.6783 - val_loss: 1.5014 - val_acc: 0.5145\n",
      "Epoch 34/100\n",
      "50000/50000 [==============================] - 11s 217us/step - loss: 0.8774 - acc: 0.6859 - val_loss: 1.4648 - val_acc: 0.5297\n",
      "Epoch 35/100\n",
      "50000/50000 [==============================] - 11s 215us/step - loss: 0.8524 - acc: 0.6969 - val_loss: 1.4810 - val_acc: 0.5284\n",
      "Epoch 36/100\n",
      "50000/50000 [==============================] - 11s 214us/step - loss: 0.8366 - acc: 0.7004 - val_loss: 1.4940 - val_acc: 0.5272\n",
      "Epoch 37/100\n",
      "50000/50000 [==============================] - 10s 199us/step - loss: 0.8261 - acc: 0.7054 - val_loss: 1.5240 - val_acc: 0.5274\n",
      "Epoch 38/100\n",
      "50000/50000 [==============================] - 11s 211us/step - loss: 0.8105 - acc: 0.7093 - val_loss: 1.5446 - val_acc: 0.5182\n",
      "Epoch 39/100\n",
      "50000/50000 [==============================] - 11s 214us/step - loss: 0.7887 - acc: 0.7187 - val_loss: 1.5628 - val_acc: 0.5248\n",
      "Epoch 40/100\n",
      "50000/50000 [==============================] - 11s 211us/step - loss: 0.7812 - acc: 0.7211 - val_loss: 1.5591 - val_acc: 0.5363\n",
      "Epoch 41/100\n",
      "50000/50000 [==============================] - 10s 210us/step - loss: 0.7684 - acc: 0.7253 - val_loss: 1.5908 - val_acc: 0.5173\n",
      "Epoch 42/100\n",
      "50000/50000 [==============================] - 11s 210us/step - loss: 0.7472 - acc: 0.7320 - val_loss: 1.5900 - val_acc: 0.5214\n",
      "Epoch 43/100\n",
      "50000/50000 [==============================] - 10s 209us/step - loss: 0.7316 - acc: 0.7371 - val_loss: 1.5991 - val_acc: 0.5267\n",
      "Epoch 44/100\n",
      "50000/50000 [==============================] - 11s 212us/step - loss: 0.7060 - acc: 0.7469 - val_loss: 1.6805 - val_acc: 0.5176\n",
      "Epoch 45/100\n",
      "50000/50000 [==============================] - 10s 207us/step - loss: 0.6962 - acc: 0.7500 - val_loss: 1.7173 - val_acc: 0.5209\n",
      "Epoch 46/100\n",
      "50000/50000 [==============================] - 11s 215us/step - loss: 0.6765 - acc: 0.7586 - val_loss: 1.7161 - val_acc: 0.5213\n",
      "Epoch 47/100\n",
      "50000/50000 [==============================] - 11s 222us/step - loss: 0.6770 - acc: 0.7570 - val_loss: 1.7148 - val_acc: 0.5180\n",
      "Epoch 48/100\n",
      "50000/50000 [==============================] - 11s 211us/step - loss: 0.6594 - acc: 0.7625 - val_loss: 1.7027 - val_acc: 0.5282\n",
      "Epoch 49/100\n",
      "50000/50000 [==============================] - 10s 199us/step - loss: 0.6343 - acc: 0.7735 - val_loss: 1.7356 - val_acc: 0.5177\n",
      "Epoch 50/100\n",
      "50000/50000 [==============================] - 11s 213us/step - loss: 0.6436 - acc: 0.7717 - val_loss: 1.8137 - val_acc: 0.5178\n",
      "Epoch 51/100\n",
      "50000/50000 [==============================] - 11s 215us/step - loss: 0.6234 - acc: 0.7771 - val_loss: 1.7933 - val_acc: 0.5181\n",
      "Epoch 52/100\n",
      "50000/50000 [==============================] - 11s 216us/step - loss: 0.6204 - acc: 0.7794 - val_loss: 1.8103 - val_acc: 0.5140\n",
      "Epoch 53/100\n",
      "50000/50000 [==============================] - 12s 231us/step - loss: 0.5961 - acc: 0.7872 - val_loss: 1.8723 - val_acc: 0.5201\n",
      "Epoch 54/100\n",
      "50000/50000 [==============================] - 10s 208us/step - loss: 0.5885 - acc: 0.7912 - val_loss: 1.8752 - val_acc: 0.5223\n",
      "Epoch 55/100\n",
      "50000/50000 [==============================] - 10s 202us/step - loss: 0.5889 - acc: 0.7887 - val_loss: 1.8900 - val_acc: 0.5265\n",
      "Epoch 56/100\n",
      "50000/50000 [==============================] - 11s 215us/step - loss: 0.5485 - acc: 0.8057 - val_loss: 1.8836 - val_acc: 0.5164\n"
     ]
    },
    {
     "name": "stdout",
     "output_type": "stream",
     "text": [
      "Epoch 57/100\n",
      "50000/50000 [==============================] - 10s 208us/step - loss: 0.5520 - acc: 0.8034 - val_loss: 1.9313 - val_acc: 0.5226\n",
      "Epoch 58/100\n",
      "50000/50000 [==============================] - 11s 216us/step - loss: 0.5407 - acc: 0.8049 - val_loss: 1.9493 - val_acc: 0.5270\n",
      "Epoch 59/100\n",
      "50000/50000 [==============================] - 11s 213us/step - loss: 0.5296 - acc: 0.8100 - val_loss: 1.9621 - val_acc: 0.5158\n",
      "Epoch 60/100\n",
      "50000/50000 [==============================] - 11s 210us/step - loss: 0.5133 - acc: 0.8164 - val_loss: 2.0134 - val_acc: 0.5166\n",
      "Epoch 61/100\n",
      "50000/50000 [==============================] - 11s 216us/step - loss: 0.5242 - acc: 0.8113 - val_loss: 2.0144 - val_acc: 0.5108\n",
      "Epoch 62/100\n",
      "50000/50000 [==============================] - 11s 213us/step - loss: 0.5053 - acc: 0.8193 - val_loss: 2.0705 - val_acc: 0.5159\n",
      "Epoch 63/100\n",
      "50000/50000 [==============================] - 10s 199us/step - loss: 0.5057 - acc: 0.8186 - val_loss: 2.0744 - val_acc: 0.5120\n",
      "Epoch 64/100\n",
      "50000/50000 [==============================] - 11s 211us/step - loss: 0.4826 - acc: 0.8268 - val_loss: 2.0774 - val_acc: 0.5143\n",
      "Epoch 65/100\n",
      "50000/50000 [==============================] - 11s 218us/step - loss: 0.4752 - acc: 0.8298 - val_loss: 2.1203 - val_acc: 0.5120\n",
      "Epoch 66/100\n",
      "50000/50000 [==============================] - 10s 208us/step - loss: 0.4619 - acc: 0.8343 - val_loss: 2.1430 - val_acc: 0.5174\n",
      "Epoch 67/100\n",
      "50000/50000 [==============================] - 10s 208us/step - loss: 0.4476 - acc: 0.8400 - val_loss: 2.2232 - val_acc: 0.5135\n",
      "Epoch 68/100\n",
      "50000/50000 [==============================] - 10s 206us/step - loss: 0.4490 - acc: 0.8393 - val_loss: 2.1970 - val_acc: 0.5087\n",
      "Epoch 69/100\n",
      "50000/50000 [==============================] - 10s 207us/step - loss: 0.4424 - acc: 0.8422 - val_loss: 2.2423 - val_acc: 0.5207\n",
      "Epoch 70/100\n",
      "50000/50000 [==============================] - 11s 216us/step - loss: 0.4218 - acc: 0.8494 - val_loss: 2.2731 - val_acc: 0.5168\n",
      "Epoch 71/100\n",
      "50000/50000 [==============================] - 11s 210us/step - loss: 0.4225 - acc: 0.8490 - val_loss: 2.3646 - val_acc: 0.5095\n",
      "Epoch 72/100\n",
      "50000/50000 [==============================] - 10s 205us/step - loss: 0.4276 - acc: 0.8461 - val_loss: 2.3114 - val_acc: 0.5087\n",
      "Epoch 73/100\n",
      "50000/50000 [==============================] - 11s 211us/step - loss: 0.4180 - acc: 0.8492 - val_loss: 2.3146 - val_acc: 0.5077\n",
      "Epoch 74/100\n",
      "50000/50000 [==============================] - 11s 212us/step - loss: 0.4216 - acc: 0.8496 - val_loss: 2.4029 - val_acc: 0.5068\n",
      "Epoch 75/100\n",
      "50000/50000 [==============================] - 11s 212us/step - loss: 0.3942 - acc: 0.8588 - val_loss: 2.4330 - val_acc: 0.5159\n",
      "Epoch 76/100\n",
      "50000/50000 [==============================] - 10s 204us/step - loss: 0.4118 - acc: 0.8502 - val_loss: 2.4286 - val_acc: 0.5152\n",
      "Epoch 77/100\n",
      "50000/50000 [==============================] - 11s 213us/step - loss: 0.3529 - acc: 0.8760 - val_loss: 2.5192 - val_acc: 0.5165\n",
      "Epoch 78/100\n",
      "50000/50000 [==============================] - 11s 213us/step - loss: 0.3778 - acc: 0.8640 - val_loss: 2.4858 - val_acc: 0.5118\n",
      "Epoch 79/100\n",
      "50000/50000 [==============================] - 10s 209us/step - loss: 0.3662 - acc: 0.8685 - val_loss: 2.4835 - val_acc: 0.5028\n",
      "Epoch 80/100\n",
      "50000/50000 [==============================] - 10s 208us/step - loss: 0.3748 - acc: 0.8674 - val_loss: 2.6053 - val_acc: 0.5081\n",
      "Epoch 81/100\n",
      "50000/50000 [==============================] - 11s 212us/step - loss: 0.3593 - acc: 0.8712 - val_loss: 2.6084 - val_acc: 0.5069\n",
      "Epoch 82/100\n",
      "50000/50000 [==============================] - 11s 217us/step - loss: 0.3645 - acc: 0.8684 - val_loss: 2.6963 - val_acc: 0.5076\n",
      "Epoch 83/100\n",
      "50000/50000 [==============================] - 11s 220us/step - loss: 0.3668 - acc: 0.8679 - val_loss: 2.6215 - val_acc: 0.5076\n",
      "Epoch 84/100\n",
      "50000/50000 [==============================] - 11s 216us/step - loss: 0.3261 - acc: 0.8836 - val_loss: 2.6373 - val_acc: 0.5044\n",
      "Epoch 85/100\n",
      "50000/50000 [==============================] - 11s 217us/step - loss: 0.3168 - acc: 0.8872 - val_loss: 2.7241 - val_acc: 0.5029\n",
      "Epoch 86/100\n",
      "50000/50000 [==============================] - 11s 215us/step - loss: 0.3676 - acc: 0.8678 - val_loss: 2.6874 - val_acc: 0.5070\n",
      "Epoch 87/100\n",
      "50000/50000 [==============================] - 10s 205us/step - loss: 0.3469 - acc: 0.8740 - val_loss: 2.7396 - val_acc: 0.4964\n",
      "Epoch 88/100\n",
      "50000/50000 [==============================] - 11s 216us/step - loss: 0.3337 - acc: 0.8812 - val_loss: 2.7649 - val_acc: 0.5133\n",
      "Epoch 89/100\n",
      "50000/50000 [==============================] - 11s 219us/step - loss: 0.2918 - acc: 0.8937 - val_loss: 2.8369 - val_acc: 0.5008\n",
      "Epoch 90/100\n",
      "50000/50000 [==============================] - 10s 209us/step - loss: 0.3113 - acc: 0.8868 - val_loss: 2.8006 - val_acc: 0.5121\n",
      "Epoch 91/100\n",
      "50000/50000 [==============================] - 11s 213us/step - loss: 0.3228 - acc: 0.8840 - val_loss: 2.8744 - val_acc: 0.5014\n",
      "Epoch 92/100\n",
      "50000/50000 [==============================] - 11s 216us/step - loss: 0.3298 - acc: 0.8815 - val_loss: 2.8708 - val_acc: 0.5098\n",
      "Epoch 93/100\n",
      "50000/50000 [==============================] - 10s 210us/step - loss: 0.2905 - acc: 0.8954 - val_loss: 2.8806 - val_acc: 0.5058\n",
      "Epoch 94/100\n",
      "50000/50000 [==============================] - 11s 211us/step - loss: 0.2967 - acc: 0.8923 - val_loss: 2.9877 - val_acc: 0.5024\n",
      "Epoch 95/100\n",
      "50000/50000 [==============================] - 11s 213us/step - loss: 0.2961 - acc: 0.8934 - val_loss: 2.9633 - val_acc: 0.5009\n",
      "Epoch 96/100\n",
      "50000/50000 [==============================] - 11s 220us/step - loss: 0.3069 - acc: 0.8897 - val_loss: 2.9381 - val_acc: 0.5020\n",
      "Epoch 97/100\n",
      "50000/50000 [==============================] - 11s 216us/step - loss: 0.2969 - acc: 0.8920 - val_loss: 2.9278 - val_acc: 0.5049\n",
      "Epoch 98/100\n",
      "50000/50000 [==============================] - 11s 219us/step - loss: 0.2876 - acc: 0.8956 - val_loss: 3.0208 - val_acc: 0.4996\n",
      "Epoch 99/100\n",
      "50000/50000 [==============================] - 10s 201us/step - loss: 0.2767 - acc: 0.9007 - val_loss: 3.0265 - val_acc: 0.5084\n",
      "Epoch 100/100\n",
      "50000/50000 [==============================] - 11s 218us/step - loss: 0.2710 - acc: 0.9035 - val_loss: 2.9898 - val_acc: 0.5072\n"
     ]
    },
    {
     "data": {
      "text/plain": [
       "<keras.callbacks.History at 0x1eb881b5240>"
      ]
     },
     "execution_count": 6,
     "metadata": {},
     "output_type": "execute_result"
    }
   ],
   "source": [
    "\"\"\"\n",
    "設定要訓練的 Epoch 數\n",
    "\"\"\"\n",
    "model.fit(x_train, y_train, \n",
    "          epochs=100, \n",
    "          batch_size=256, \n",
    "          validation_data=(x_test, y_test), \n",
    "          shuffle=True)"
   ]
  },
  {
   "cell_type": "code",
   "execution_count": 7,
   "metadata": {},
   "outputs": [
    {
     "data": {
      "text/plain": [
       "<Figure size 640x480 with 1 Axes>"
      ]
     },
     "metadata": {},
     "output_type": "display_data"
    },
    {
     "data": {
      "text/plain": [
       "<Figure size 640x480 with 1 Axes>"
      ]
     },
     "metadata": {},
     "output_type": "display_data"
    }
   ],
   "source": [
    "import matplotlib.pyplot as plt\n",
    "# 以視覺畫方式檢視訓練過程\n",
    "\n",
    "train_loss = model.history.history[\"loss\"]\n",
    "valid_loss = model.history.history[\"val_loss\"]\n",
    "\n",
    "train_acc = model.history.history[\"acc\"]\n",
    "valid_acc = model.history.history[\"val_acc\"]\n",
    "\n",
    "plt.plot(range(len(train_loss)), train_loss, label=\"train loss\")\n",
    "plt.plot(range(len(valid_loss)), valid_loss, label=\"valid loss\")\n",
    "plt.legend()\n",
    "plt.title(\"Loss\")\n",
    "plt.show()\n",
    "\n",
    "plt.plot(range(len(train_acc)), train_acc, label=\"train accuracy\")\n",
    "plt.plot(range(len(valid_acc)), valid_acc, label=\"valid accuracy\")\n",
    "plt.legend()\n",
    "plt.title(\"Accuracy\")\n",
    "plt.show()"
   ]
  },
  {
   "cell_type": "code",
   "execution_count": null,
   "metadata": {},
   "outputs": [],
   "source": []
  }
 ],
 "metadata": {
  "kernelspec": {
   "display_name": "Python 3",
   "language": "python",
   "name": "python3"
  },
  "language_info": {
   "codemirror_mode": {
    "name": "ipython",
    "version": 3
   },
   "file_extension": ".py",
   "mimetype": "text/x-python",
   "name": "python",
   "nbconvert_exporter": "python",
   "pygments_lexer": "ipython3",
   "version": "3.6.4"
  }
 },
 "nbformat": 4,
 "nbformat_minor": 2
}
